{
 "cells": [
  {
   "cell_type": "code",
   "execution_count": 6,
   "id": "dd7bf6c4",
   "metadata": {},
   "outputs": [
    {
     "data": {
      "text/plain": [
       "[Document(metadata={'Header1': 'Welcome to LangChain Practice'}, page_content='Welcome to LangChain Practice'),\n",
       " Document(metadata={'Header1': 'Welcome to LangChain Practice'}, page_content='This is a sample HTML page used to test the HTML loader and text splitter in LangChain.'),\n",
       " Document(metadata={'Header1': 'Welcome to LangChain Practice', 'Header2': 'Section 1: Introduction'}, page_content='Section 1: Introduction'),\n",
       " Document(metadata={'Header1': 'Welcome to LangChain Practice', 'Header2': 'Section 1: Introduction'}, page_content='LangChain is a powerful framework for building applications with LLMs. It provides tools to handle prompts, memory, chaining, and document loading.'),\n",
       " Document(metadata={'Header1': 'Welcome to LangChain Practice', 'Header2': 'Section 2: Document Loaders'}, page_content='Section 2: Document Loaders'),\n",
       " Document(metadata={'Header1': 'Welcome to LangChain Practice', 'Header2': 'Section 2: Document Loaders'}, page_content='HTMLLoader is one of many loaders provided by LangChain to ingest data from HTML content.'),\n",
       " Document(metadata={'Header1': 'Welcome to LangChain Practice', 'Header2': 'Section 3: Text Splitters'}, page_content='Section 3: Text Splitters'),\n",
       " Document(metadata={'Header1': 'Welcome to LangChain Practice', 'Header2': 'Section 3: Text Splitters'}, page_content='You can use CharacterTextSplitter, RecursiveCharacterTextSplitter, and other splitters to chunk text for processing.  \\nHappy Learning with LangChain!')]"
      ]
     },
     "execution_count": 6,
     "metadata": {},
     "output_type": "execute_result"
    }
   ],
   "source": [
    "## HTML text splitter\n",
    "\n",
    "from langchain_text_splitters import HTMLHeaderTextSplitter\n",
    "\n",
    "html_string = \"\"\"\n",
    "<html>\n",
    "<head>\n",
    "    <title>LangChain HTML Practice</title>\n",
    "</head>\n",
    "<body>\n",
    "    <h1>Welcome to LangChain Practice</h1>\n",
    "    <p>This is a sample HTML page used to test the HTML loader and text splitter in LangChain.</p>\n",
    "    \n",
    "    <h2>Section 1: Introduction</h2>\n",
    "    <p>LangChain is a powerful framework for building applications with LLMs. It provides tools to handle prompts, memory, chaining, and document loading.</p>\n",
    "    \n",
    "    <h2>Section 2: Document Loaders</h2>\n",
    "    <p>HTMLLoader is one of many loaders provided by LangChain to ingest data from HTML content.</p>\n",
    "    \n",
    "    <h2>Section 3: Text Splitters</h2>\n",
    "    <p>You can use CharacterTextSplitter, RecursiveCharacterTextSplitter, and other splitters to chunk text for processing.</p>\n",
    "    \n",
    "    <footer>\n",
    "        <p>Happy Learning with LangChain!</p>\n",
    "    </footer>\n",
    "</body>\n",
    "</html>\n",
    "\n",
    "\"\"\"\n",
    "\n",
    "header_split_on = [ \n",
    "    (\"h1\",\"Header1\"),\n",
    "    (\"h2\",\"Header2\")\n",
    "    \n",
    "    ]\n",
    "\n",
    "html_splitter=HTMLHeaderTextSplitter(header_split_on)\n",
    "html_header_splits=html_splitter.split_text(html_string)\n",
    "html_header_splits"
   ]
  },
  {
   "cell_type": "code",
   "execution_count": 10,
   "id": "200aab7b",
   "metadata": {},
   "outputs": [
    {
     "data": {
      "text/plain": [
       "Document(metadata={}, page_content='End container NOTE: Script required for drop-down button to work (mirrors).  \\nEnd header wrapper End content End footer  \\nEnd header  \\nEnd navigation End search  \\nStanford Encyclopedia of Philosophy  \\nMenu  \\nBrowse  \\nTable of Contents  \\nWhat\\'s New  \\nRandom Entry  \\nChronological  \\nArchives  \\nAbout  \\nEditorial Information  \\nAbout the SEP  \\nEditorial Board  \\nHow to Cite the SEP  \\nSpecial Characters  \\nAdvanced Tools  \\nContact  \\nSupport SEP  \\nSupport the SEP  \\nPDFs for SEP Friends  \\nMake a Donation  \\nSEPIA for Libraries  \\nBegin article sidebar End article sidebar NOTE: Article content must have two wrapper divs: id=\"article\" and id=\"article-content\" End article NOTE: article banner is outside of the id=\"article\" div. End article-banner  \\nEntry Navigation  \\nEntry Contents  \\nBibliography  \\nAcademic Tools  \\nFriends PDF Preview  \\nAuthor and Citation Info  \\nBack to Top  \\nEnd article-content  \\nBEGIN ARTICLE HTML #aueditable DO NOT MODIFY THIS LINE AND BELOW END ARTICLE HTML  \\nDO NOT MODIFY THIS LINE AND ABOVE')"
      ]
     },
     "execution_count": 10,
     "metadata": {},
     "output_type": "execute_result"
    }
   ],
   "source": [
    "url = \"https://plato.stanford.edu/entries/plato/\"\n",
    "\n",
    "headers_split_on = [ \n",
    "    (\"h1\",\"Header1\"),\n",
    "    (\"h2\",\"Header2\"),\n",
    "    (\"h3\",\"Header3\"),\n",
    "    (\"h4\",\"Header4\"),\n",
    "    (\"h5\",\"Header5\"),\n",
    "    (\"h6\",\"Header6\")\n",
    "    \n",
    "    ]\n",
    "\n",
    "html_splitter=HTMLHeaderTextSplitter(header_split_on)\n",
    "html_header_splits=html_splitter.split_text_from_url(url)\n",
    "html_header_splits[0]\n"
   ]
  },
  {
   "cell_type": "code",
   "execution_count": null,
   "id": "52c71df9",
   "metadata": {},
   "outputs": [],
   "source": []
  }
 ],
 "metadata": {
  "kernelspec": {
   "display_name": "Python 3",
   "language": "python",
   "name": "python3"
  },
  "language_info": {
   "codemirror_mode": {
    "name": "ipython",
    "version": 3
   },
   "file_extension": ".py",
   "mimetype": "text/x-python",
   "name": "python",
   "nbconvert_exporter": "python",
   "pygments_lexer": "ipython3",
   "version": "3.10.0"
  }
 },
 "nbformat": 4,
 "nbformat_minor": 5
}
