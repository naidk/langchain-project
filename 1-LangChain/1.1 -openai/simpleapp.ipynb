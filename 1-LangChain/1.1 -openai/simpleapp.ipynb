{
 "cells": [
  {
   "cell_type": "markdown",
   "id": "d18b289b",
   "metadata": {},
   "source": [
    "## simple Gen Ai App with Langchain"
   ]
  },
  {
   "cell_type": "code",
   "execution_count": 25,
   "id": "baa5418e",
   "metadata": {},
   "outputs": [],
   "source": [
    "## simple Gen Ai App with Langchain\n",
    "from dotenv import load_dotenv\n",
    "import os\n",
    "load_dotenv()\n",
    "\n",
    "os.environ[\"OPENAI_API_KEY\"] = os.getenv(\"OPENAI_API_KEY\")\n",
    "##Langchain Tracking\n",
    "os.environ[\"LANGSMITH_API_KEY\"] = os.getenv(\"LANGSMITH_API_KEY\")\n",
    "os.environ[\"LANGCHAIN_TRACING_V2\"] = \"true\"\n",
    "os.environ[\"LANGCHAIN_PROJECT\"]= os.getenv(\"LANGCHAIN_PROJECT\")\n"
   ]
  },
  {
   "cell_type": "code",
   "execution_count": 26,
   "id": "509d8e4f",
   "metadata": {},
   "outputs": [],
   "source": [
    "## Data Ingestion -- from the website we need to scrape the data\n",
    "from langchain_community.document_loaders import WebBaseLoader\n"
   ]
  },
  {
   "cell_type": "code",
   "execution_count": 27,
   "id": "9120f2cc",
   "metadata": {},
   "outputs": [
    {
     "data": {
      "text/plain": [
       "<langchain_community.document_loaders.web_base.WebBaseLoader at 0x262650b3640>"
      ]
     },
     "execution_count": 27,
     "metadata": {},
     "output_type": "execute_result"
    }
   ],
   "source": [
    "loader = WebBaseLoader(\"https://docs.smith.langchain.com/administration/concepts\")\n",
    "loader"
   ]
  },
  {
   "cell_type": "code",
   "execution_count": 28,
   "id": "a059ef42",
   "metadata": {},
   "outputs": [
    {
     "data": {
      "text/plain": [
       "[Document(page_content=\"\\n\\n\\n\\n\\nConcepts | ğŸ¦œï¸�ğŸ›\\xa0ï¸� LangSmith\\n\\n\\n\\n\\n\\n\\n\\n\\nSkip to main contentWe are growing and hiring for multiple roles for LangChain, LangGraph and LangSmith.  Join our team!API ReferenceRESTPythonJS/TSSearchRegionUSEUGo to AppGet StartedObservabilityEvaluationPrompt EngineeringDeployment (LangGraph Platform)AdministrationTutorialsOptimize tracing spend on LangSmithHow-to GuidesSetupConceptual GuideSelf-hostingPricingReferenceCloud architecture and scalabilityAuthz and AuthnAuthentication methodsdata_formatsEvaluationDataset transformationsRegions FAQsdk_referenceChangelogCloud architecture and scalabilityAuthz and AuthnAuthentication methodsdata_formatsEvaluationDataset transformationsRegions FAQsdk_referenceAdministrationConceptual GuideOn this pageConcepts\\nThis conceptual guide covers topics related to managing users, organizations, and workspaces within LangSmith.\\nResource Hierarchyâ€‹\\nOrganizationsâ€‹\\nAn organization is a logical grouping of users within LangSmith with its own billing configuration. Typically, there is one organization per company. An organization can have multiple workspaces. For more details, see the setup guide.\\nWhen you log in for the first time, a personal organization will be created for you automatically. If you'd like to collaborate with others, you can create a separate organization and invite your team members to join.\\nThere are a few important differences between your personal organization and shared organizations:\\nFeaturePersonalSharedMaximum workspaces1Variable, depending on plan (see pricing pageCollaborationCannot invite usersCan invite usersBilling: paid plansDeveloper plan onlyAll other plans available\\nWorkspacesâ€‹\\ninfoWorkspaces were formerly called Tenants. Some code and APIs may still reference the old name for a period of time during the transition.\\nA workspace is a logical grouping of users and resources within an organization. A workspace separates trust boundaries for resources and access control.\\nUsers may have permissions in a workspace that grant them access to the resources in that workspace, including tracing projects, datasets, annotation queues, and prompts. For more details, see the setup guide.\\nIt is recommended to create a separate workspace for each team within your organization. To organize resources even further, you can use Resource Tags to group resources within a workspace.\\nThe following image shows a sample workspace settings page:\\n\\nThe following diagram explains the relationship between organizations, workspaces, and the different resources scoped to and within a workspace:\\n\\n\\nSee the table below for details on which features are available in which scope (organization or workspace):\\nResource/SettingScopeTrace ProjectsWorkspaceAnnotation QueuesWorkspaceDeploymentsWorkspaceDatasets & ExperimentsWorkspacePromptsWorkspaceResource TagsWorkspaceAPI KeysWorkspaceSettings including Secrets, Feedback config, Models, Rules, and Shared URLsWorkspaceUser management: Invite User to WorkspaceWorkspaceRBAC: Assigning Workspace RolesWorkspaceData Retention, Usage LimitsWorkspace*Plans and Billing, Credits, InvoicesOrganizationUser management: Invite User to OrganizationOrganization**Adding WorkspacesOrganizationAssigning Organization RolesOrganizationRBAC: Creating/Editing/Deleting Custom RolesOrganization\\n*Â\\xa0Data retention settings and usage limits will be available soon for the organization level as well\\n**Â\\xa0Self-hosted installations may enable workspace-level invites of users to the organization via a feature flag.\\nSee the self-hosted user management docs for details.\\nResource tagsâ€‹\\nResource tags allow you to organize resources within a workspaces. Each tag is a key-value pair that can be assigned to a resource.\\nTags can be used to filter workspace-scoped resources in the UI and API: Projects, Datasets, Annotation Queues, Deployments, and Experiments.\\nEach new workspace comes with two default tag keys: Application and Environment; as the names suggest, these tags can be used to categorize resources based on the application and environment they belong to.\\nMore tags can be added as needed.\\nLangSmith resource tags are very similar to tags in cloud services like AWS.\\n\\nUser Management and RBACâ€‹\\nUsersâ€‹\\nA user is a person who has access to LangSmith. Users can be members of one or more organizations and workspaces within those organizations.\\nOrganization members are managed in organization settings:\\n\\nAnd workspace members are managed in workspace settings:\\n\\nAPI keysâ€‹\\nLegacy Keys deprecated as of October 22, 2024We ended support for legacy API keys prefixed with ls__ on October 22, 2024 in favor of personal access tokens (PATs) and service keys. We require using PATs and service keys for all new integrations. API keys prefixed with ls__ will no longer work as of October 22, 2024.\\nPersonal Access Tokens (PATs)â€‹\\nPersonal Access Tokens (PATs) are used to authenticate requests to the LangSmith API. They are created by users and scoped to a user. The PAT will have the same permissions as the user that created it.\\nWe recommend not using these to authenticate requests from your application, but rather using them for personal scripts or tools that interact with the LangSmith API. If the user associated with the PAT is removed from the organization, the PAT will no longer work.\\nPATs are prefixed with lsv2_pt_\\nService keysâ€‹\\nService keys are similar to PATs, but are used to authenticate requests to the LangSmith API on behalf of a service account. Only admins can create service keys. We recommend using these for applications / services that need to interact with the LangSmith API, such as LangGraph agents or other integrations.\\nService keys are scoped to a workspace and can be used to authenticate requests to the LangSmith API for that workspace.\\nService keys are prefixed with lsv2_sk_\\nnoteTo see how to create a service key or Personal Access Token, see the setup guide\\nOrganization rolesâ€‹\\nOrganization roles are distinct from the Enterprise feature (RBAC) below and are used in the context of multiple workspaces. Your organization role determines your workspace membership characteristics and your organization-level permissions. See the organization setup guide for more information.\\nThe organization role selected also impacts workspace membership as described here:\\n\\nOrganization Admin grants full access to manage all organization configuration, users, billing, and workspaces. An Organization Admin has Admin access to all workspaces in an organization\\nOrganization User may read organization information but cannot execute any write actions at the organization level. An Organization User can be added to a subset of workspaces and assigned workspace roles as usual (if RBAC is enabled), which specify permissions at the workspace level.\\n\\ninfoThe Organization User role is only available in organizations on plans with multiple workspaces. In organizations limited to a single workspace, all users are Organization Admins.\\nCustom organization-scoped roles are not available yet.\\nSee the table below for all organization permissions:\\nOrganization UserOrganization AdminView organization configurationâœ…âœ…View organization rolesâœ…âœ…View organization membersâœ…âœ…View data retention settingsâœ…âœ…View usage limitsâœ…âœ…Admin access to all workspacesâœ…Manage billing settingsâœ…Create workspacesâœ…Create, edit, and delete organization rolesâœ…Invite new users to organizationâœ…Delete user invitesâœ…Remove users from an organizationâœ…Update data retention settings*âœ…Update usage limits*âœ…\\nWorkspace roles (RBAC)â€‹\\nnoteRBAC (Role-Based Access Control) is a feature that is only available to Enterprise customers. If you are interested in this feature, please contact our sales team at sales@langchain.dev\\nOther plans default to using the Admin role for all users.\\nRoles are used to define the set of permissions that a user has within a workspace. There are three built-in system roles that cannot be edited:\\n\\nAdmin - has full access to all resources within the workspace\\nViewer - has read-only access to all resources within the workspace\\nEditor - has full permissions except for workspace management (adding/removing users, changing roles, configuring service keys)\\n\\nOrganization admins can also create/edit custom roles with specific permissions for different resources.\\nRoles can be managed in organization settings under the Roles tab:\\n\\nFor more details on assigning and creating roles, see the access control setup guide.\\nBest Practicesâ€‹\\nEnvironment Separationâ€‹\\nUse resource tags to organize resources by environment using the default tag key Environment and different values for the environment (e.g. dev, staging, prod). This tagging structure will allow you to organize your tracing projects today and easily enforce\\npermissions when we release attribute based access control (ABAC). ABAC on the resource tag will provide a fine-grained way to restrict access to production tracing projects, for example. We do not recommend that you use Workspaces for environment separation as you cannot share resources\\nacross Workspaces. If you would like to promote a prompt from staging to prod, we recommend you use prompt tags instead. See docs for more information.\\nUsage and Billingâ€‹\\nData Retentionâ€‹\\nIn May 2024, LangSmith introduced a maximum data retention period on traces of 400 days. In June 2024, LangSmith introduced\\na new data retention based pricing model where customers can configure a shorter data retention period on traces in exchange\\nfor savings up to 10x. On this page, we'll go through how data retention works and is priced in LangSmith.\\nWhy retention mattersâ€‹\\n\\nPrivacy: Many data privacy regulations, such as GDPR in Europe or CCPA in California, require organizations to delete personal data\\nonce it's no longer necessary for the purposes for which it was collected. Setting retention periods aids in compliance with\\nsuch regulations.\\nCost: LangSmith charges less for traces that have low data retention. See our tutorial on how to optimize spend\\nfor details.\\n\\nHow it worksâ€‹\\nLangSmith now has two tiers of traces based on Data Retention with the following characteristics:\\nBaseExtendedPrice$.50 / 1k traces$5 / 1k tracesRetention Period14 days400 days\\nData deletion after retention ends\\nAfter the specified retention period, traces are no longer accessible via the runs table or API. All user data associated\\nwith the trace (e.g. inputs and outputs) is deleted from our internal systems within a day thereafter. Some metadata\\nassociated with each trace may be retained indefinitely for analytics and billing purposes.\\nData retention auto-upgrades\\ncautionAuto upgrades can have an impact on your bill. Please read this section carefully to fully understand your\\nestimated LangSmith tracing costs.\\nWhen you use certain features with base tier traces, their data retention will be automatically upgraded to\\nextended tier. This will increase both the retention period, and the cost of the trace.\\nThe complete list of scenarios in which a trace will upgrade when:\\n\\nFeedback is added to any run on the trace\\nAn Annotation Queue receives any run from the trace\\nA Run Rule matches any run within a trace\\n\\nWhy auto-upgrade traces?\\nWe have two reasons behind the auto-upgrade model for tracing:\\n\\nWe think that traces that match any of these conditions are fundamentally more interesting than other traces, and\\ntherefore it is good for users to be able to keep them around longer.\\nWe philosophically want to charge customers an order of magnitude lower for traces that may not be interacted with meaningfully.\\nWe think auto-upgrades align our pricing model with the value that LangSmith brings, where only traces with meaningful interaction\\nare charged at a higher rate.\\n\\nIf you have questions or concerns about our pricing model, please feel free to reach out to support@langchain.dev and let us know your thoughts!\\nHow does data retention affect downstream features?\\n\\nAnnotation Queues, Run Rules, and Feedback: Traces that use these features will be auto-upgraded.\\nMonitoring: The monitoring tab will continue to work even after a base tier trace's data retention period ends. It is powered by\\ntrace metadata that exists for >30 days, meaning that your monitoring graphs will continue to stay accurate even on\\nbase tier traces.\\nDatasets: Datasets have an indefinite data retention period. Restated differently, if you add a trace's inputs and outputs to a dataset,\\nthey will never be deleted. We suggest that if you are using LangSmith for data collection, you take advantage of the datasets\\nfeature.\\n\\nBilling modelâ€‹\\nBillable metrics\\nOn your LangSmith invoice, you will see two metrics that we charge for:\\n\\nLangSmith Traces (Base Charge)\\nLangSmith Traces (Extended Data Retention Upgrades).\\n\\nThe first metric includes all traces, regardless of tier. The second metric just counts the number of extended retention traces.\\nWhy measure all traces + upgrades instead of base and extended traces?\\nA natural question to ask when considering our pricing is why not just show the number of base tier and extended tier\\ntraces directly on the invoice?\\nWhile we understand this would be more straightforward, it doesn't fit trace upgrades properly. Consider a\\nbase tier trace that was recorded on June 30, and upgraded to extended tier on July 3. The base tier\\ntrace occurred in the June billing period, but the upgrade occurred in the July billing period. Therefore,\\nwe need to be able to measure these two events independently to properly bill our customers.\\nIf your trace was recorded as an extended retention trace, then the base and extended metrics will both be recorded\\nwith the same timestamp.\\nCost breakdown\\nThe Base Charge for a trace is .05Â¢ per trace. We priced the upgrade such that an extended retention trace\\ncosts 10x the price of a base tier trace (.50Â¢ per trace) including both metrics. Thus, each upgrade costs .45Â¢.\\nRate Limitsâ€‹\\nLangSmith has rate limits which are designed to ensure the stability of the service for all users.\\nTo ensure access and stability, LangSmith will respond with HTTP Status Code 429 indicating that rate or usage limits have been exceeded under the following circumstances:\\nScenariosâ€‹\\nTemporary throughput limit over a 1 minute period at our application load balancerâ€‹\\nThis 429 is the the result of exceeding a fixed number of API calls over a 1 minute window on a per API key/access token basis. The start of the window will vary slightly â€” it is not guaranteed to start at the start of a clock minute â€” and may change depending on application deployment events.\\nAfter the max events are received we will respond with a 429 until 60 seconds from the start of the evaluation window has been reached and then the process repeats.\\nThis 429 is thrown by our application load balancer and is a mechanism in place for all LangSmith users independent of plan tier to ensure continuity of service for all users.\\nMethodEndpointLimitWindowDELETESessions301 minutePOST OR PATCHRuns50001 minutePOSTFeedback50001 minute**20001 minute\\nnoteThe LangSmith SDK takes steps to minimize the likelihood of reaching these limits on run-related endpoints by batching up to 100 runs from a single session ID into a single API call.\\nPlan-level hourly trace event limitâ€‹\\nThis 429 is the result of reaching your maximum hourly events ingested and is evaluated in a fixed window starting at the beginning of each clock hour in UTC and resets at the top of each new hour.\\nAn event in this context is the creation or update of a run. So if run is created, then subsequently updated in the same hourly window, that will count as 2 events against this limit.\\nThis is thrown by our application and varies by plan tier, with organizations on our Startup/Plus and Enterprise plan tiers having higher hourly limits than our Free and Developer Plan Tiers which are designed for personal use.\\nPlanLimitWindowDeveloper (no payment on file)50,000 events1 hourDeveloper (with payment on file)250,000 events1 hourStartup/Plus500,000 events1 hourEnterpriseCustomCustom\\nPlan-level hourly trace data ingest limitâ€‹\\nThis 429 is the result of reaching the maximum amount of data ingested across your trace inputs, outputs, and metadata and is evaluated in a fixed window starting at the beginning of each clock hour in UTC and resets at the top of each new hour.\\nTypically, inputs, outputs, and metadata are send on both run creation and update events. So if a run is created and is 2.0MB in size at creation, and 3.0MB in size when updated in the same hourly window, that will count as 5.0MB of storage against this limit.\\nThis is thrown by our application and varies by plan tier, with organizations on our Startup/Plus and Enterprise plan tiers having higher hourly limits than our Free and Developer Plan Tiers which are designed for personal use.\\nPlanLimitWindowDeveloper (no payment on file)500MB1 hourDeveloper (with payment on file)2.5GB1 hourStartup/Plus5.0GB1 hourEnterpriseCustomCustom\\nPlan-level monthly unique traces limitâ€‹\\nThis 429 is the result of reaching your maximum monthly traces ingested and is evaluated in a fixed window starting at the beginning of each calendar month in UTC and resets at the beginning of each new month.\\nThis is thrown by our application and applies only to the Developer Plan Tier when there is no payment method on file.\\nPlanLimitWindowDeveloper (no payment on file)5,000 traces1 month\\nSelf-configured monthly usage limitsâ€‹\\nThis 429 is the result of reaching your usage limit as configured by your organization admin and is evaluated in a fixed window starting at the beginning of each calendar month in UTC and resets at the beginning of each new month.\\nThis is thrown by our application and varies by organization based on their configured settings.\\nHandling 429s responses in your applicationâ€‹\\nSince some 429 responses are temporary and may succeed on a successive call, if you are directly calling the LangSmith API in your application we recommend implementing retry logic with exponential backoff and jitter.\\nFor convenience, LangChain applications built with the LangSmith SDK has this capability built-in.\\nnoteIt is important to note that if you are saturating the endpoints for extended periods of time, retries may not be effective as your application will eventually run large enough backlogs to exhaust all retries.If that is the case, we would like to discuss your needs more specifically. Please reach out to LangSmith Support with details about your applications throughput needs and sample code and we can work with you to better understand whether the best approach is fixing a bug, changes to your application code, or a different LangSmith plan.\\nUsage Limitsâ€‹\\nLangSmith lets you configure usage limits on tracing. Note that these are usage limits, not spend limits, which\\nmean they let you limit the quantity of occurrences of some event rather than the total amount you will spend.\\nLangSmith lets you set two different monthly limits, mirroring our Billable Metrics discussed in the aforementioned data retention guide:\\n\\nAll traces limit\\nExtended data retention traces limit\\n\\nThese let you limit the number of total traces, and extended data retention traces respectively.\\nProperties of usage limitingâ€‹\\nUsage limiting is approximate, meaning that we do not guarantee the exactness of the limit. In rare cases, there\\nmay be a small period of time where additional traces are processed above the limit threshold before usage limiting\\nbegins to apply.\\nSide effects of extended data retention traces limitâ€‹\\nThe extended data retention traces limit has side effects. If the limit is already reached, any feature that could\\ncause an auto-upgrade of tracing tiers becomes inaccessible. This is because an auto-upgrade of a trace would cause\\nanother extended retention trace to be created, which in turn should not be allowed by the limit. Therefore, you can\\nno longer:\\n\\nmatch run rules\\nadd feedback to traces\\nadd runs to annotation queues\\n\\nEach of these features may cause an auto upgrade, so we shut them off when the limit is reached.\\nUpdating usage limitsâ€‹\\nUsage limits can be updated from the Settings page under Usage and Billing. Limit values are cached, so it\\nmay take a minute or two before the new limits apply.\\nRelated contentâ€‹\\n\\nTutorial on how to optimize spend\\nWas this page helpful?You can leave detailed feedback on GitHub.PreviousSAML SSONextSelf-hostingResource HierarchyOrganizationsWorkspacesResource tagsUser Management and RBACUsersAPI keysOrganization rolesWorkspace roles (RBAC)Best PracticesEnvironment SeparationUsage and BillingData RetentionRate LimitsUsage LimitsRelated contentCommunityTwitterGitHubDocs CodeLangSmith SDKPythonJS/TSMoreHomepageBlogLangChain Python DocsLangChain JS/TS DocsCopyright Â© 2025 LangChain, Inc.\\n\\n\", metadata={'source': 'https://docs.smith.langchain.com/administration/concepts', 'title': 'Concepts | ğŸ¦œï¸�ğŸ›\\xa0ï¸� LangSmith', 'description': 'This conceptual guide covers topics related to managing users, organizations, and workspaces within LangSmith.', 'language': 'en'})]"
      ]
     },
     "execution_count": 28,
     "metadata": {},
     "output_type": "execute_result"
    }
   ],
   "source": [
    "docs = loader.load()\n",
    "docs"
   ]
  },
  {
   "cell_type": "code",
   "execution_count": 29,
   "id": "693711cf",
   "metadata": {},
   "outputs": [],
   "source": [
    "### Load Data --> Docs --> Divide our data into chunks --> texts --> vectors --> Vector Embeddings --> Vector Store DB\n",
    "from langchain.text_splitter import RecursiveCharacterTextSplitter\n",
    "text_splitter = RecursiveCharacterTextSplitter(\n",
    "    chunk_size=1000,\n",
    "    chunk_overlap=200,\n",
    ")\n",
    "documnets = text_splitter.split_documents(docs)"
   ]
  },
  {
   "cell_type": "code",
   "execution_count": 30,
   "id": "536cbfb1",
   "metadata": {},
   "outputs": [
    {
     "data": {
      "text/plain": [
       "[Document(page_content='Concepts | ğŸ¦œï¸�ğŸ›\\xa0ï¸� LangSmith', metadata={'source': 'https://docs.smith.langchain.com/administration/concepts', 'title': 'Concepts | ğŸ¦œï¸�ğŸ›\\xa0ï¸� LangSmith', 'description': 'This conceptual guide covers topics related to managing users, organizations, and workspaces within LangSmith.', 'language': 'en'}),\n",
       " Document(page_content='Skip to main contentWe are growing and hiring for multiple roles for LangChain, LangGraph and LangSmith.  Join our team!API ReferenceRESTPythonJS/TSSearchRegionUSEUGo to AppGet StartedObservabilityEvaluationPrompt EngineeringDeployment (LangGraph Platform)AdministrationTutorialsOptimize tracing spend on LangSmithHow-to GuidesSetupConceptual GuideSelf-hostingPricingReferenceCloud architecture and scalabilityAuthz and AuthnAuthentication methodsdata_formatsEvaluationDataset transformationsRegions FAQsdk_referenceChangelogCloud architecture and scalabilityAuthz and AuthnAuthentication methodsdata_formatsEvaluationDataset transformationsRegions FAQsdk_referenceAdministrationConceptual GuideOn this pageConcepts\\nThis conceptual guide covers topics related to managing users, organizations, and workspaces within LangSmith.\\nResource Hierarchyâ€‹\\nOrganizationsâ€‹', metadata={'source': 'https://docs.smith.langchain.com/administration/concepts', 'title': 'Concepts | ğŸ¦œï¸�ğŸ›\\xa0ï¸� LangSmith', 'description': 'This conceptual guide covers topics related to managing users, organizations, and workspaces within LangSmith.', 'language': 'en'}),\n",
       " Document(page_content=\"This conceptual guide covers topics related to managing users, organizations, and workspaces within LangSmith.\\nResource Hierarchyâ€‹\\nOrganizationsâ€‹\\nAn organization is a logical grouping of users within LangSmith with its own billing configuration. Typically, there is one organization per company. An organization can have multiple workspaces. For more details, see the setup guide.\\nWhen you log in for the first time, a personal organization will be created for you automatically. If you'd like to collaborate with others, you can create a separate organization and invite your team members to join.\\nThere are a few important differences between your personal organization and shared organizations:\\nFeaturePersonalSharedMaximum workspaces1Variable, depending on plan (see pricing pageCollaborationCannot invite usersCan invite usersBilling: paid plansDeveloper plan onlyAll other plans available\\nWorkspacesâ€‹\", metadata={'source': 'https://docs.smith.langchain.com/administration/concepts', 'title': 'Concepts | ğŸ¦œï¸�ğŸ›\\xa0ï¸� LangSmith', 'description': 'This conceptual guide covers topics related to managing users, organizations, and workspaces within LangSmith.', 'language': 'en'}),\n",
       " Document(page_content='Workspacesâ€‹\\ninfoWorkspaces were formerly called Tenants. Some code and APIs may still reference the old name for a period of time during the transition.\\nA workspace is a logical grouping of users and resources within an organization. A workspace separates trust boundaries for resources and access control.\\nUsers may have permissions in a workspace that grant them access to the resources in that workspace, including tracing projects, datasets, annotation queues, and prompts. For more details, see the setup guide.\\nIt is recommended to create a separate workspace for each team within your organization. To organize resources even further, you can use Resource Tags to group resources within a workspace.\\nThe following image shows a sample workspace settings page:', metadata={'source': 'https://docs.smith.langchain.com/administration/concepts', 'title': 'Concepts | ğŸ¦œï¸�ğŸ›\\xa0ï¸� LangSmith', 'description': 'This conceptual guide covers topics related to managing users, organizations, and workspaces within LangSmith.', 'language': 'en'}),\n",
       " Document(page_content='The following diagram explains the relationship between organizations, workspaces, and the different resources scoped to and within a workspace:', metadata={'source': 'https://docs.smith.langchain.com/administration/concepts', 'title': 'Concepts | ğŸ¦œï¸�ğŸ›\\xa0ï¸� LangSmith', 'description': 'This conceptual guide covers topics related to managing users, organizations, and workspaces within LangSmith.', 'language': 'en'}),\n",
       " Document(page_content='See the table below for details on which features are available in which scope (organization or workspace):\\nResource/SettingScopeTrace ProjectsWorkspaceAnnotation QueuesWorkspaceDeploymentsWorkspaceDatasets & ExperimentsWorkspacePromptsWorkspaceResource TagsWorkspaceAPI KeysWorkspaceSettings including Secrets, Feedback config, Models, Rules, and Shared URLsWorkspaceUser management: Invite User to WorkspaceWorkspaceRBAC: Assigning Workspace RolesWorkspaceData Retention, Usage LimitsWorkspace*Plans and Billing, Credits, InvoicesOrganizationUser management: Invite User to OrganizationOrganization**Adding WorkspacesOrganizationAssigning Organization RolesOrganizationRBAC: Creating/Editing/Deleting Custom RolesOrganization\\n*Â\\xa0Data retention settings and usage limits will be available soon for the organization level as well\\n**Â\\xa0Self-hosted installations may enable workspace-level invites of users to the organization via a feature flag.\\nSee the self-hosted user management docs for details.', metadata={'source': 'https://docs.smith.langchain.com/administration/concepts', 'title': 'Concepts | ğŸ¦œï¸�ğŸ›\\xa0ï¸� LangSmith', 'description': 'This conceptual guide covers topics related to managing users, organizations, and workspaces within LangSmith.', 'language': 'en'}),\n",
       " Document(page_content='**Â\\xa0Self-hosted installations may enable workspace-level invites of users to the organization via a feature flag.\\nSee the self-hosted user management docs for details.\\nResource tagsâ€‹\\nResource tags allow you to organize resources within a workspaces. Each tag is a key-value pair that can be assigned to a resource.\\nTags can be used to filter workspace-scoped resources in the UI and API: Projects, Datasets, Annotation Queues, Deployments, and Experiments.\\nEach new workspace comes with two default tag keys: Application and Environment; as the names suggest, these tags can be used to categorize resources based on the application and environment they belong to.\\nMore tags can be added as needed.\\nLangSmith resource tags are very similar to tags in cloud services like AWS.', metadata={'source': 'https://docs.smith.langchain.com/administration/concepts', 'title': 'Concepts | ğŸ¦œï¸�ğŸ›\\xa0ï¸� LangSmith', 'description': 'This conceptual guide covers topics related to managing users, organizations, and workspaces within LangSmith.', 'language': 'en'}),\n",
       " Document(page_content='User Management and RBACâ€‹\\nUsersâ€‹\\nA user is a person who has access to LangSmith. Users can be members of one or more organizations and workspaces within those organizations.\\nOrganization members are managed in organization settings:\\n\\nAnd workspace members are managed in workspace settings:', metadata={'source': 'https://docs.smith.langchain.com/administration/concepts', 'title': 'Concepts | ğŸ¦œï¸�ğŸ›\\xa0ï¸� LangSmith', 'description': 'This conceptual guide covers topics related to managing users, organizations, and workspaces within LangSmith.', 'language': 'en'}),\n",
       " Document(page_content='API keysâ€‹\\nLegacy Keys deprecated as of October 22, 2024We ended support for legacy API keys prefixed with ls__ on October 22, 2024 in favor of personal access tokens (PATs) and service keys. We require using PATs and service keys for all new integrations. API keys prefixed with ls__ will no longer work as of October 22, 2024.\\nPersonal Access Tokens (PATs)â€‹\\nPersonal Access Tokens (PATs) are used to authenticate requests to the LangSmith API. They are created by users and scoped to a user. The PAT will have the same permissions as the user that created it.\\nWe recommend not using these to authenticate requests from your application, but rather using them for personal scripts or tools that interact with the LangSmith API. If the user associated with the PAT is removed from the organization, the PAT will no longer work.\\nPATs are prefixed with lsv2_pt_\\nService keysâ€‹', metadata={'source': 'https://docs.smith.langchain.com/administration/concepts', 'title': 'Concepts | ğŸ¦œï¸�ğŸ›\\xa0ï¸� LangSmith', 'description': 'This conceptual guide covers topics related to managing users, organizations, and workspaces within LangSmith.', 'language': 'en'}),\n",
       " Document(page_content='PATs are prefixed with lsv2_pt_\\nService keysâ€‹\\nService keys are similar to PATs, but are used to authenticate requests to the LangSmith API on behalf of a service account. Only admins can create service keys. We recommend using these for applications / services that need to interact with the LangSmith API, such as LangGraph agents or other integrations.\\nService keys are scoped to a workspace and can be used to authenticate requests to the LangSmith API for that workspace.\\nService keys are prefixed with lsv2_sk_\\nnoteTo see how to create a service key or Personal Access Token, see the setup guide\\nOrganization rolesâ€‹\\nOrganization roles are distinct from the Enterprise feature (RBAC) below and are used in the context of multiple workspaces. Your organization role determines your workspace membership characteristics and your organization-level permissions. See the organization setup guide for more information.', metadata={'source': 'https://docs.smith.langchain.com/administration/concepts', 'title': 'Concepts | ğŸ¦œï¸�ğŸ›\\xa0ï¸� LangSmith', 'description': 'This conceptual guide covers topics related to managing users, organizations, and workspaces within LangSmith.', 'language': 'en'}),\n",
       " Document(page_content='The organization role selected also impacts workspace membership as described here:', metadata={'source': 'https://docs.smith.langchain.com/administration/concepts', 'title': 'Concepts | ğŸ¦œï¸�ğŸ›\\xa0ï¸� LangSmith', 'description': 'This conceptual guide covers topics related to managing users, organizations, and workspaces within LangSmith.', 'language': 'en'}),\n",
       " Document(page_content='Organization Admin grants full access to manage all organization configuration, users, billing, and workspaces. An Organization Admin has Admin access to all workspaces in an organization\\nOrganization User may read organization information but cannot execute any write actions at the organization level. An Organization User can be added to a subset of workspaces and assigned workspace roles as usual (if RBAC is enabled), which specify permissions at the workspace level.', metadata={'source': 'https://docs.smith.langchain.com/administration/concepts', 'title': 'Concepts | ğŸ¦œï¸�ğŸ›\\xa0ï¸� LangSmith', 'description': 'This conceptual guide covers topics related to managing users, organizations, and workspaces within LangSmith.', 'language': 'en'}),\n",
       " Document(page_content='infoThe Organization User role is only available in organizations on plans with multiple workspaces. In organizations limited to a single workspace, all users are Organization Admins.\\nCustom organization-scoped roles are not available yet.\\nSee the table below for all organization permissions:\\nOrganization UserOrganization AdminView organization configurationâœ…âœ…View organization rolesâœ…âœ…View organization membersâœ…âœ…View data retention settingsâœ…âœ…View usage limitsâœ…âœ…Admin access to all workspacesâœ…Manage billing settingsâœ…Create workspacesâœ…Create, edit, and delete organization rolesâœ…Invite new users to organizationâœ…Delete user invitesâœ…Remove users from an organizationâœ…Update data retention settings*âœ…Update usage limits*âœ…\\nWorkspace roles (RBAC)â€‹\\nnoteRBAC (Role-Based Access Control) is a feature that is only available to Enterprise customers. If you are interested in this feature, please contact our sales team at sales@langchain.dev', metadata={'source': 'https://docs.smith.langchain.com/administration/concepts', 'title': 'Concepts | ğŸ¦œï¸�ğŸ›\\xa0ï¸� LangSmith', 'description': 'This conceptual guide covers topics related to managing users, organizations, and workspaces within LangSmith.', 'language': 'en'}),\n",
       " Document(page_content='noteRBAC (Role-Based Access Control) is a feature that is only available to Enterprise customers. If you are interested in this feature, please contact our sales team at sales@langchain.dev\\nOther plans default to using the Admin role for all users.\\nRoles are used to define the set of permissions that a user has within a workspace. There are three built-in system roles that cannot be edited:', metadata={'source': 'https://docs.smith.langchain.com/administration/concepts', 'title': 'Concepts | ğŸ¦œï¸�ğŸ›\\xa0ï¸� LangSmith', 'description': 'This conceptual guide covers topics related to managing users, organizations, and workspaces within LangSmith.', 'language': 'en'}),\n",
       " Document(page_content='Admin - has full access to all resources within the workspace\\nViewer - has read-only access to all resources within the workspace\\nEditor - has full permissions except for workspace management (adding/removing users, changing roles, configuring service keys)\\n\\nOrganization admins can also create/edit custom roles with specific permissions for different resources.\\nRoles can be managed in organization settings under the Roles tab:', metadata={'source': 'https://docs.smith.langchain.com/administration/concepts', 'title': 'Concepts | ğŸ¦œï¸�ğŸ›\\xa0ï¸� LangSmith', 'description': 'This conceptual guide covers topics related to managing users, organizations, and workspaces within LangSmith.', 'language': 'en'}),\n",
       " Document(page_content='For more details on assigning and creating roles, see the access control setup guide.\\nBest Practicesâ€‹\\nEnvironment Separationâ€‹\\nUse resource tags to organize resources by environment using the default tag key Environment and different values for the environment (e.g. dev, staging, prod). This tagging structure will allow you to organize your tracing projects today and easily enforce\\npermissions when we release attribute based access control (ABAC). ABAC on the resource tag will provide a fine-grained way to restrict access to production tracing projects, for example. We do not recommend that you use Workspaces for environment separation as you cannot share resources\\nacross Workspaces. If you would like to promote a prompt from staging to prod, we recommend you use prompt tags instead. See docs for more information.\\nUsage and Billingâ€‹\\nData Retentionâ€‹\\nIn May 2024, LangSmith introduced a maximum data retention period on traces of 400 days. In June 2024, LangSmith introduced', metadata={'source': 'https://docs.smith.langchain.com/administration/concepts', 'title': 'Concepts | ğŸ¦œï¸�ğŸ›\\xa0ï¸� LangSmith', 'description': 'This conceptual guide covers topics related to managing users, organizations, and workspaces within LangSmith.', 'language': 'en'}),\n",
       " Document(page_content=\"Usage and Billingâ€‹\\nData Retentionâ€‹\\nIn May 2024, LangSmith introduced a maximum data retention period on traces of 400 days. In June 2024, LangSmith introduced\\na new data retention based pricing model where customers can configure a shorter data retention period on traces in exchange\\nfor savings up to 10x. On this page, we'll go through how data retention works and is priced in LangSmith.\\nWhy retention mattersâ€‹\", metadata={'source': 'https://docs.smith.langchain.com/administration/concepts', 'title': 'Concepts | ğŸ¦œï¸�ğŸ›\\xa0ï¸� LangSmith', 'description': 'This conceptual guide covers topics related to managing users, organizations, and workspaces within LangSmith.', 'language': 'en'}),\n",
       " Document(page_content=\"Privacy: Many data privacy regulations, such as GDPR in Europe or CCPA in California, require organizations to delete personal data\\nonce it's no longer necessary for the purposes for which it was collected. Setting retention periods aids in compliance with\\nsuch regulations.\\nCost: LangSmith charges less for traces that have low data retention. See our tutorial on how to optimize spend\\nfor details.\", metadata={'source': 'https://docs.smith.langchain.com/administration/concepts', 'title': 'Concepts | ğŸ¦œï¸�ğŸ›\\xa0ï¸� LangSmith', 'description': 'This conceptual guide covers topics related to managing users, organizations, and workspaces within LangSmith.', 'language': 'en'}),\n",
       " Document(page_content='How it worksâ€‹\\nLangSmith now has two tiers of traces based on Data Retention with the following characteristics:\\nBaseExtendedPrice$.50 / 1k traces$5 / 1k tracesRetention Period14 days400 days\\nData deletion after retention ends\\nAfter the specified retention period, traces are no longer accessible via the runs table or API. All user data associated\\nwith the trace (e.g. inputs and outputs) is deleted from our internal systems within a day thereafter. Some metadata\\nassociated with each trace may be retained indefinitely for analytics and billing purposes.\\nData retention auto-upgrades\\ncautionAuto upgrades can have an impact on your bill. Please read this section carefully to fully understand your\\nestimated LangSmith tracing costs.\\nWhen you use certain features with base tier traces, their data retention will be automatically upgraded to\\nextended tier. This will increase both the retention period, and the cost of the trace.', metadata={'source': 'https://docs.smith.langchain.com/administration/concepts', 'title': 'Concepts | ğŸ¦œï¸�ğŸ›\\xa0ï¸� LangSmith', 'description': 'This conceptual guide covers topics related to managing users, organizations, and workspaces within LangSmith.', 'language': 'en'}),\n",
       " Document(page_content='When you use certain features with base tier traces, their data retention will be automatically upgraded to\\nextended tier. This will increase both the retention period, and the cost of the trace.\\nThe complete list of scenarios in which a trace will upgrade when:', metadata={'source': 'https://docs.smith.langchain.com/administration/concepts', 'title': 'Concepts | ğŸ¦œï¸�ğŸ›\\xa0ï¸� LangSmith', 'description': 'This conceptual guide covers topics related to managing users, organizations, and workspaces within LangSmith.', 'language': 'en'}),\n",
       " Document(page_content='Feedback is added to any run on the trace\\nAn Annotation Queue receives any run from the trace\\nA Run Rule matches any run within a trace\\n\\nWhy auto-upgrade traces?\\nWe have two reasons behind the auto-upgrade model for tracing:\\n\\nWe think that traces that match any of these conditions are fundamentally more interesting than other traces, and\\ntherefore it is good for users to be able to keep them around longer.\\nWe philosophically want to charge customers an order of magnitude lower for traces that may not be interacted with meaningfully.\\nWe think auto-upgrades align our pricing model with the value that LangSmith brings, where only traces with meaningful interaction\\nare charged at a higher rate.\\n\\nIf you have questions or concerns about our pricing model, please feel free to reach out to support@langchain.dev and let us know your thoughts!\\nHow does data retention affect downstream features?', metadata={'source': 'https://docs.smith.langchain.com/administration/concepts', 'title': 'Concepts | ğŸ¦œï¸�ğŸ›\\xa0ï¸� LangSmith', 'description': 'This conceptual guide covers topics related to managing users, organizations, and workspaces within LangSmith.', 'language': 'en'}),\n",
       " Document(page_content=\"If you have questions or concerns about our pricing model, please feel free to reach out to support@langchain.dev and let us know your thoughts!\\nHow does data retention affect downstream features?\\n\\nAnnotation Queues, Run Rules, and Feedback: Traces that use these features will be auto-upgraded.\\nMonitoring: The monitoring tab will continue to work even after a base tier trace's data retention period ends. It is powered by\\ntrace metadata that exists for >30 days, meaning that your monitoring graphs will continue to stay accurate even on\\nbase tier traces.\\nDatasets: Datasets have an indefinite data retention period. Restated differently, if you add a trace's inputs and outputs to a dataset,\\nthey will never be deleted. We suggest that if you are using LangSmith for data collection, you take advantage of the datasets\\nfeature.\\n\\nBilling modelâ€‹\\nBillable metrics\\nOn your LangSmith invoice, you will see two metrics that we charge for:\", metadata={'source': 'https://docs.smith.langchain.com/administration/concepts', 'title': 'Concepts | ğŸ¦œï¸�ğŸ›\\xa0ï¸� LangSmith', 'description': 'This conceptual guide covers topics related to managing users, organizations, and workspaces within LangSmith.', 'language': 'en'}),\n",
       " Document(page_content='Billing modelâ€‹\\nBillable metrics\\nOn your LangSmith invoice, you will see two metrics that we charge for:\\n\\nLangSmith Traces (Base Charge)\\nLangSmith Traces (Extended Data Retention Upgrades).', metadata={'source': 'https://docs.smith.langchain.com/administration/concepts', 'title': 'Concepts | ğŸ¦œï¸�ğŸ›\\xa0ï¸� LangSmith', 'description': 'This conceptual guide covers topics related to managing users, organizations, and workspaces within LangSmith.', 'language': 'en'}),\n",
       " Document(page_content=\"The first metric includes all traces, regardless of tier. The second metric just counts the number of extended retention traces.\\nWhy measure all traces + upgrades instead of base and extended traces?\\nA natural question to ask when considering our pricing is why not just show the number of base tier and extended tier\\ntraces directly on the invoice?\\nWhile we understand this would be more straightforward, it doesn't fit trace upgrades properly. Consider a\\nbase tier trace that was recorded on June 30, and upgraded to extended tier on July 3. The base tier\\ntrace occurred in the June billing period, but the upgrade occurred in the July billing period. Therefore,\\nwe need to be able to measure these two events independently to properly bill our customers.\\nIf your trace was recorded as an extended retention trace, then the base and extended metrics will both be recorded\\nwith the same timestamp.\\nCost breakdown\", metadata={'source': 'https://docs.smith.langchain.com/administration/concepts', 'title': 'Concepts | ğŸ¦œï¸�ğŸ›\\xa0ï¸� LangSmith', 'description': 'This conceptual guide covers topics related to managing users, organizations, and workspaces within LangSmith.', 'language': 'en'}),\n",
       " Document(page_content='If your trace was recorded as an extended retention trace, then the base and extended metrics will both be recorded\\nwith the same timestamp.\\nCost breakdown\\nThe Base Charge for a trace is .05Â¢ per trace. We priced the upgrade such that an extended retention trace\\ncosts 10x the price of a base tier trace (.50Â¢ per trace) including both metrics. Thus, each upgrade costs .45Â¢.\\nRate Limitsâ€‹\\nLangSmith has rate limits which are designed to ensure the stability of the service for all users.\\nTo ensure access and stability, LangSmith will respond with HTTP Status Code 429 indicating that rate or usage limits have been exceeded under the following circumstances:\\nScenariosâ€‹\\nTemporary throughput limit over a 1 minute period at our application load balancerâ€‹', metadata={'source': 'https://docs.smith.langchain.com/administration/concepts', 'title': 'Concepts | ğŸ¦œï¸�ğŸ›\\xa0ï¸� LangSmith', 'description': 'This conceptual guide covers topics related to managing users, organizations, and workspaces within LangSmith.', 'language': 'en'}),\n",
       " Document(page_content='Scenariosâ€‹\\nTemporary throughput limit over a 1 minute period at our application load balancerâ€‹\\nThis 429 is the the result of exceeding a fixed number of API calls over a 1 minute window on a per API key/access token basis. The start of the window will vary slightly â€” it is not guaranteed to start at the start of a clock minute â€” and may change depending on application deployment events.\\nAfter the max events are received we will respond with a 429 until 60 seconds from the start of the evaluation window has been reached and then the process repeats.\\nThis 429 is thrown by our application load balancer and is a mechanism in place for all LangSmith users independent of plan tier to ensure continuity of service for all users.\\nMethodEndpointLimitWindowDELETESessions301 minutePOST OR PATCHRuns50001 minutePOSTFeedback50001 minute**20001 minute', metadata={'source': 'https://docs.smith.langchain.com/administration/concepts', 'title': 'Concepts | ğŸ¦œï¸�ğŸ›\\xa0ï¸� LangSmith', 'description': 'This conceptual guide covers topics related to managing users, organizations, and workspaces within LangSmith.', 'language': 'en'}),\n",
       " Document(page_content='MethodEndpointLimitWindowDELETESessions301 minutePOST OR PATCHRuns50001 minutePOSTFeedback50001 minute**20001 minute\\nnoteThe LangSmith SDK takes steps to minimize the likelihood of reaching these limits on run-related endpoints by batching up to 100 runs from a single session ID into a single API call.\\nPlan-level hourly trace event limitâ€‹\\nThis 429 is the result of reaching your maximum hourly events ingested and is evaluated in a fixed window starting at the beginning of each clock hour in UTC and resets at the top of each new hour.\\nAn event in this context is the creation or update of a run. So if run is created, then subsequently updated in the same hourly window, that will count as 2 events against this limit.\\nThis is thrown by our application and varies by plan tier, with organizations on our Startup/Plus and Enterprise plan tiers having higher hourly limits than our Free and Developer Plan Tiers which are designed for personal use.', metadata={'source': 'https://docs.smith.langchain.com/administration/concepts', 'title': 'Concepts | ğŸ¦œï¸�ğŸ›\\xa0ï¸� LangSmith', 'description': 'This conceptual guide covers topics related to managing users, organizations, and workspaces within LangSmith.', 'language': 'en'}),\n",
       " Document(page_content='PlanLimitWindowDeveloper (no payment on file)50,000 events1 hourDeveloper (with payment on file)250,000 events1 hourStartup/Plus500,000 events1 hourEnterpriseCustomCustom\\nPlan-level hourly trace data ingest limitâ€‹\\nThis 429 is the result of reaching the maximum amount of data ingested across your trace inputs, outputs, and metadata and is evaluated in a fixed window starting at the beginning of each clock hour in UTC and resets at the top of each new hour.\\nTypically, inputs, outputs, and metadata are send on both run creation and update events. So if a run is created and is 2.0MB in size at creation, and 3.0MB in size when updated in the same hourly window, that will count as 5.0MB of storage against this limit.\\nThis is thrown by our application and varies by plan tier, with organizations on our Startup/Plus and Enterprise plan tiers having higher hourly limits than our Free and Developer Plan Tiers which are designed for personal use.', metadata={'source': 'https://docs.smith.langchain.com/administration/concepts', 'title': 'Concepts | ğŸ¦œï¸�ğŸ›\\xa0ï¸� LangSmith', 'description': 'This conceptual guide covers topics related to managing users, organizations, and workspaces within LangSmith.', 'language': 'en'}),\n",
       " Document(page_content='PlanLimitWindowDeveloper (no payment on file)500MB1 hourDeveloper (with payment on file)2.5GB1 hourStartup/Plus5.0GB1 hourEnterpriseCustomCustom\\nPlan-level monthly unique traces limitâ€‹\\nThis 429 is the result of reaching your maximum monthly traces ingested and is evaluated in a fixed window starting at the beginning of each calendar month in UTC and resets at the beginning of each new month.\\nThis is thrown by our application and applies only to the Developer Plan Tier when there is no payment method on file.\\nPlanLimitWindowDeveloper (no payment on file)5,000 traces1 month\\nSelf-configured monthly usage limitsâ€‹\\nThis 429 is the result of reaching your usage limit as configured by your organization admin and is evaluated in a fixed window starting at the beginning of each calendar month in UTC and resets at the beginning of each new month.\\nThis is thrown by our application and varies by organization based on their configured settings.\\nHandling 429s responses in your applicationâ€‹', metadata={'source': 'https://docs.smith.langchain.com/administration/concepts', 'title': 'Concepts | ğŸ¦œï¸�ğŸ›\\xa0ï¸� LangSmith', 'description': 'This conceptual guide covers topics related to managing users, organizations, and workspaces within LangSmith.', 'language': 'en'}),\n",
       " Document(page_content='This is thrown by our application and varies by organization based on their configured settings.\\nHandling 429s responses in your applicationâ€‹\\nSince some 429 responses are temporary and may succeed on a successive call, if you are directly calling the LangSmith API in your application we recommend implementing retry logic with exponential backoff and jitter.\\nFor convenience, LangChain applications built with the LangSmith SDK has this capability built-in.', metadata={'source': 'https://docs.smith.langchain.com/administration/concepts', 'title': 'Concepts | ğŸ¦œï¸�ğŸ›\\xa0ï¸� LangSmith', 'description': 'This conceptual guide covers topics related to managing users, organizations, and workspaces within LangSmith.', 'language': 'en'}),\n",
       " Document(page_content='For convenience, LangChain applications built with the LangSmith SDK has this capability built-in.\\nnoteIt is important to note that if you are saturating the endpoints for extended periods of time, retries may not be effective as your application will eventually run large enough backlogs to exhaust all retries.If that is the case, we would like to discuss your needs more specifically. Please reach out to LangSmith Support with details about your applications throughput needs and sample code and we can work with you to better understand whether the best approach is fixing a bug, changes to your application code, or a different LangSmith plan.\\nUsage Limitsâ€‹\\nLangSmith lets you configure usage limits on tracing. Note that these are usage limits, not spend limits, which\\nmean they let you limit the quantity of occurrences of some event rather than the total amount you will spend.', metadata={'source': 'https://docs.smith.langchain.com/administration/concepts', 'title': 'Concepts | ğŸ¦œï¸�ğŸ›\\xa0ï¸� LangSmith', 'description': 'This conceptual guide covers topics related to managing users, organizations, and workspaces within LangSmith.', 'language': 'en'}),\n",
       " Document(page_content='mean they let you limit the quantity of occurrences of some event rather than the total amount you will spend.\\nLangSmith lets you set two different monthly limits, mirroring our Billable Metrics discussed in the aforementioned data retention guide:', metadata={'source': 'https://docs.smith.langchain.com/administration/concepts', 'title': 'Concepts | ğŸ¦œï¸�ğŸ›\\xa0ï¸� LangSmith', 'description': 'This conceptual guide covers topics related to managing users, organizations, and workspaces within LangSmith.', 'language': 'en'}),\n",
       " Document(page_content='All traces limit\\nExtended data retention traces limit\\n\\nThese let you limit the number of total traces, and extended data retention traces respectively.\\nProperties of usage limitingâ€‹\\nUsage limiting is approximate, meaning that we do not guarantee the exactness of the limit. In rare cases, there\\nmay be a small period of time where additional traces are processed above the limit threshold before usage limiting\\nbegins to apply.\\nSide effects of extended data retention traces limitâ€‹\\nThe extended data retention traces limit has side effects. If the limit is already reached, any feature that could\\ncause an auto-upgrade of tracing tiers becomes inaccessible. This is because an auto-upgrade of a trace would cause\\nanother extended retention trace to be created, which in turn should not be allowed by the limit. Therefore, you can\\nno longer:\\n\\nmatch run rules\\nadd feedback to traces\\nadd runs to annotation queues', metadata={'source': 'https://docs.smith.langchain.com/administration/concepts', 'title': 'Concepts | ğŸ¦œï¸�ğŸ›\\xa0ï¸� LangSmith', 'description': 'This conceptual guide covers topics related to managing users, organizations, and workspaces within LangSmith.', 'language': 'en'}),\n",
       " Document(page_content='match run rules\\nadd feedback to traces\\nadd runs to annotation queues\\n\\nEach of these features may cause an auto upgrade, so we shut them off when the limit is reached.\\nUpdating usage limitsâ€‹\\nUsage limits can be updated from the Settings page under Usage and Billing. Limit values are cached, so it\\nmay take a minute or two before the new limits apply.\\nRelated contentâ€‹\\n\\nTutorial on how to optimize spend\\nWas this page helpful?You can leave detailed feedback on GitHub.PreviousSAML SSONextSelf-hostingResource HierarchyOrganizationsWorkspacesResource tagsUser Management and RBACUsersAPI keysOrganization rolesWorkspace roles (RBAC)Best PracticesEnvironment SeparationUsage and BillingData RetentionRate LimitsUsage LimitsRelated contentCommunityTwitterGitHubDocs CodeLangSmith SDKPythonJS/TSMoreHomepageBlogLangChain Python DocsLangChain JS/TS DocsCopyright Â© 2025 LangChain, Inc.', metadata={'source': 'https://docs.smith.langchain.com/administration/concepts', 'title': 'Concepts | ğŸ¦œï¸�ğŸ›\\xa0ï¸� LangSmith', 'description': 'This conceptual guide covers topics related to managing users, organizations, and workspaces within LangSmith.', 'language': 'en'})]"
      ]
     },
     "execution_count": 30,
     "metadata": {},
     "output_type": "execute_result"
    }
   ],
   "source": [
    "documnets"
   ]
  },
  {
   "cell_type": "code",
   "execution_count": 31,
   "id": "baaddd85",
   "metadata": {},
   "outputs": [],
   "source": [
    "from langchain_openai import OpenAIEmbeddings\n",
    "embeddings = OpenAIEmbeddings()"
   ]
  },
  {
   "cell_type": "code",
   "execution_count": 32,
   "id": "64746855",
   "metadata": {},
   "outputs": [],
   "source": [
    "from langchain_community.vectorstores import FAISS\n",
    "vectorstoredb = FAISS.from_documents(documnets,embeddings)"
   ]
  },
  {
   "cell_type": "code",
   "execution_count": 33,
   "id": "2d11bae9",
   "metadata": {},
   "outputs": [
    {
     "data": {
      "text/plain": [
       "<langchain_community.vectorstores.faiss.FAISS at 0x262652caa70>"
      ]
     },
     "execution_count": 33,
     "metadata": {},
     "output_type": "execute_result"
    }
   ],
   "source": [
    "vectorstoredb"
   ]
  },
  {
   "cell_type": "code",
   "execution_count": 34,
   "id": "0de873a1",
   "metadata": {},
   "outputs": [
    {
     "data": {
      "text/plain": [
       "'How it worksâ€‹\\nLangSmith now has two tiers of traces based on Data Retention with the following characteristics:\\nBaseExtendedPrice$.50 / 1k traces$5 / 1k tracesRetention Period14 days400 days\\nData deletion after retention ends\\nAfter the specified retention period, traces are no longer accessible via the runs table or API. All user data associated\\nwith the trace (e.g. inputs and outputs) is deleted from our internal systems within a day thereafter. Some metadata\\nassociated with each trace may be retained indefinitely for analytics and billing purposes.\\nData retention auto-upgrades\\ncautionAuto upgrades can have an impact on your bill. Please read this section carefully to fully understand your\\nestimated LangSmith tracing costs.\\nWhen you use certain features with base tier traces, their data retention will be automatically upgraded to\\nextended tier. This will increase both the retention period, and the cost of the trace.'"
      ]
     },
     "execution_count": 34,
     "metadata": {},
     "output_type": "execute_result"
    }
   ],
   "source": [
    "#query from vectorstoredb\n",
    "query = \"LangSmith now has two tiers of traces based on Data Retention with the following characteristics:\"\n",
    "result = vectorstoredb.similarity_search(query)\n",
    "result[0].page_content"
   ]
  },
  {
   "cell_type": "code",
   "execution_count": 35,
   "id": "1c8db139",
   "metadata": {},
   "outputs": [],
   "source": [
    "from langchain_openai import ChatOpenAI\n",
    "llm=ChatOpenAI(model=\"gpt-4o\")"
   ]
  },
  {
   "cell_type": "code",
   "execution_count": 36,
   "id": "886d90bb",
   "metadata": {},
   "outputs": [
    {
     "data": {
      "text/plain": [
       "RunnableBinding(bound=RunnableBinding(bound=RunnableAssign(mapper={\n",
       "  context: RunnableLambda(format_docs)\n",
       "}), config={'run_name': 'format_inputs'})\n",
       "| ChatPromptTemplate(input_variables=['context'], messages=[HumanMessagePromptTemplate(prompt=PromptTemplate(input_variables=['context'], template='\\nAnswer the following questions from the provided context:\\n<context>\\n{context}\\n</context>\\n    '))])\n",
       "| ChatOpenAI(client=<openai.resources.chat.completions.completions.Completions object at 0x00000262650B2BF0>, async_client=<openai.resources.chat.completions.completions.AsyncCompletions object at 0x000002626512D210>, model_name='gpt-4o', openai_api_key=SecretStr('**********'), openai_proxy='')\n",
       "| StrOutputParser(), config={'run_name': 'stuff_documents_chain'})"
      ]
     },
     "execution_count": 36,
     "metadata": {},
     "output_type": "execute_result"
    }
   ],
   "source": [
    "## Retrieval Chain,Document Chain\n",
    "from langchain.chains.combine_documents import create_stuff_documents_chain\n",
    "from langchain_core.prompts import ChatPromptTemplate\n",
    "\n",
    "prompt = ChatPromptTemplate.from_template(\n",
    "    \"\"\"\n",
    "Answer the following questions from the provided context:\n",
    "<context>\n",
    "{context}\n",
    "</context>\n",
    "    \"\"\"\n",
    ")\n",
    "\n",
    "document_chain = create_stuff_documents_chain(llm,prompt)\n",
    "document_chain"
   ]
  },
  {
   "cell_type": "code",
   "execution_count": 37,
   "id": "b2a6f23c",
   "metadata": {},
   "outputs": [
    {
     "data": {
      "text/plain": [
       "\"Certainly! Please provide the questions you have about the context, and I'll do my best to answer them.\""
      ]
     },
     "execution_count": 37,
     "metadata": {},
     "output_type": "execute_result"
    }
   ],
   "source": [
    "from langchain_core.documents import Document\n",
    "document_chain.invoke({\n",
    "    \"input\": \"After the specified retention period, traces are.\",\n",
    "    \"context\":[Document(page_content=\"After the specified retention period, traces are no longer accessible via the runs table or API. All user data associated with the trace (e.g. inputs and outputs) is deleted from our internal systems within a day thereafter. Some metadata associated with each trace may be retained indefinitely for analytics and billing purposes.\")]\n",
    "})"
   ]
  },
  {
   "cell_type": "markdown",
   "id": "c14ea0f0",
   "metadata": {},
   "source": [
    "### However,we want the document to first come from the retriver we just setup.That way, we can use the retriver to dynamically select the most relevant documents and pass those in for a given question."
   ]
  },
  {
   "cell_type": "code",
   "execution_count": 38,
   "id": "94bebcbb",
   "metadata": {},
   "outputs": [
    {
     "data": {
      "text/plain": [
       "<langchain_community.vectorstores.faiss.FAISS at 0x262652caa70>"
      ]
     },
     "execution_count": 38,
     "metadata": {},
     "output_type": "execute_result"
    }
   ],
   "source": [
    "### Input --> Retriver --> vectordb --> LLM --> Output\n",
    "\n",
    "vectorstoredb"
   ]
  },
  {
   "cell_type": "code",
   "execution_count": 40,
   "id": "18261d10",
   "metadata": {},
   "outputs": [],
   "source": [
    "retriever = vectorstoredb.as_retriever()\n",
    "from langchain.chains import create_retrieval_chain\n",
    "retrieval_chain = create_retrieval_chain(retriever,document_chain)\n"
   ]
  },
  {
   "cell_type": "code",
   "execution_count": 41,
   "id": "6dafb57b",
   "metadata": {},
   "outputs": [
    {
     "data": {
      "text/plain": [
       "RunnableBinding(bound=RunnableAssign(mapper={\n",
       "  context: RunnableBinding(bound=RunnableLambda(lambda x: x['input'])\n",
       "           | VectorStoreRetriever(tags=['FAISS', 'OpenAIEmbeddings'], vectorstore=<langchain_community.vectorstores.faiss.FAISS object at 0x00000262652CAA70>), config={'run_name': 'retrieve_documents'})\n",
       "})\n",
       "| RunnableAssign(mapper={\n",
       "    answer: RunnableBinding(bound=RunnableBinding(bound=RunnableAssign(mapper={\n",
       "              context: RunnableLambda(format_docs)\n",
       "            }), config={'run_name': 'format_inputs'})\n",
       "            | ChatPromptTemplate(input_variables=['context'], messages=[HumanMessagePromptTemplate(prompt=PromptTemplate(input_variables=['context'], template='\\nAnswer the following questions from the provided context:\\n<context>\\n{context}\\n</context>\\n    '))])\n",
       "            | ChatOpenAI(client=<openai.resources.chat.completions.completions.Completions object at 0x00000262650B2BF0>, async_client=<openai.resources.chat.completions.completions.AsyncCompletions object at 0x000002626512D210>, model_name='gpt-4o', openai_api_key=SecretStr('**********'), openai_proxy='')\n",
       "            | StrOutputParser(), config={'run_name': 'stuff_documents_chain'})\n",
       "  }), config={'run_name': 'retrieval_chain'})"
      ]
     },
     "execution_count": 41,
     "metadata": {},
     "output_type": "execute_result"
    }
   ],
   "source": [
    "retrieval_chain"
   ]
  },
  {
   "cell_type": "code",
   "execution_count": 42,
   "id": "464089fe",
   "metadata": {},
   "outputs": [
    {
     "data": {
      "text/plain": [
       "'Sure, here are answers to questions based on the provided context:\\n\\n1. **What is an organization in LangSmith?**\\n   - An organization is a logical grouping of users within LangSmith with its own billing configuration. Typically, it represents one company and can have multiple workspaces.\\n\\n2. **What is the difference between a personal and a shared organization in LangSmith?**\\n   - Personal organizations have a maximum of one workspace and cannot invite users, with the billing restricted to the developer plan. Shared organizations can have multiple workspaces (depending on the plan), allow user invitations, and have access to all other billing plans.\\n\\n3. **How are users managed in LangSmith?**\\n   - Users, who are people with access to LangSmith, can be members of one or more organizations and workspaces. Organization members are managed in organization settings, and workspace members are managed in workspace settings.\\n\\n4. **What billing metrics are mentioned for LangSmith?**\\n   - The billing metrics mentioned include \"LangSmith Traces (Base Charge)\" and \"LangSmith Traces (Extended Data Retention Upgrades)\".\\n\\n5. **What happens when you log in to LangSmith for the first time?**\\n   - When you log in for the first time, a personal organization is automatically created for you.\\n\\nPlease let me know if you have any more questions!'"
      ]
     },
     "execution_count": 42,
     "metadata": {},
     "output_type": "execute_result"
    }
   ],
   "source": [
    "### Get the response from llm \n",
    "response = retrieval_chain.invoke({ \"input\": \"An organization is a logical grouping of users within LangSmith with its own billing configuration.\" })\n",
    "response[\"answer\"]"
   ]
  },
  {
   "cell_type": "code",
   "execution_count": 43,
   "id": "444d697f",
   "metadata": {},
   "outputs": [
    {
     "data": {
      "text/plain": [
       "{'input': 'An organization is a logical grouping of users within LangSmith with its own billing configuration.',\n",
       " 'context': [Document(page_content=\"This conceptual guide covers topics related to managing users, organizations, and workspaces within LangSmith.\\nResource Hierarchyâ€‹\\nOrganizationsâ€‹\\nAn organization is a logical grouping of users within LangSmith with its own billing configuration. Typically, there is one organization per company. An organization can have multiple workspaces. For more details, see the setup guide.\\nWhen you log in for the first time, a personal organization will be created for you automatically. If you'd like to collaborate with others, you can create a separate organization and invite your team members to join.\\nThere are a few important differences between your personal organization and shared organizations:\\nFeaturePersonalSharedMaximum workspaces1Variable, depending on plan (see pricing pageCollaborationCannot invite usersCan invite usersBilling: paid plansDeveloper plan onlyAll other plans available\\nWorkspacesâ€‹\", metadata={'source': 'https://docs.smith.langchain.com/administration/concepts', 'title': 'Concepts | ğŸ¦œï¸�ğŸ›\\xa0ï¸� LangSmith', 'description': 'This conceptual guide covers topics related to managing users, organizations, and workspaces within LangSmith.', 'language': 'en'}),\n",
       "  Document(page_content='User Management and RBACâ€‹\\nUsersâ€‹\\nA user is a person who has access to LangSmith. Users can be members of one or more organizations and workspaces within those organizations.\\nOrganization members are managed in organization settings:\\n\\nAnd workspace members are managed in workspace settings:', metadata={'source': 'https://docs.smith.langchain.com/administration/concepts', 'title': 'Concepts | ğŸ¦œï¸�ğŸ›\\xa0ï¸� LangSmith', 'description': 'This conceptual guide covers topics related to managing users, organizations, and workspaces within LangSmith.', 'language': 'en'}),\n",
       "  Document(page_content='Skip to main contentWe are growing and hiring for multiple roles for LangChain, LangGraph and LangSmith.  Join our team!API ReferenceRESTPythonJS/TSSearchRegionUSEUGo to AppGet StartedObservabilityEvaluationPrompt EngineeringDeployment (LangGraph Platform)AdministrationTutorialsOptimize tracing spend on LangSmithHow-to GuidesSetupConceptual GuideSelf-hostingPricingReferenceCloud architecture and scalabilityAuthz and AuthnAuthentication methodsdata_formatsEvaluationDataset transformationsRegions FAQsdk_referenceChangelogCloud architecture and scalabilityAuthz and AuthnAuthentication methodsdata_formatsEvaluationDataset transformationsRegions FAQsdk_referenceAdministrationConceptual GuideOn this pageConcepts\\nThis conceptual guide covers topics related to managing users, organizations, and workspaces within LangSmith.\\nResource Hierarchyâ€‹\\nOrganizationsâ€‹', metadata={'source': 'https://docs.smith.langchain.com/administration/concepts', 'title': 'Concepts | ğŸ¦œï¸�ğŸ›\\xa0ï¸� LangSmith', 'description': 'This conceptual guide covers topics related to managing users, organizations, and workspaces within LangSmith.', 'language': 'en'}),\n",
       "  Document(page_content='Billing modelâ€‹\\nBillable metrics\\nOn your LangSmith invoice, you will see two metrics that we charge for:\\n\\nLangSmith Traces (Base Charge)\\nLangSmith Traces (Extended Data Retention Upgrades).', metadata={'source': 'https://docs.smith.langchain.com/administration/concepts', 'title': 'Concepts | ğŸ¦œï¸�ğŸ›\\xa0ï¸� LangSmith', 'description': 'This conceptual guide covers topics related to managing users, organizations, and workspaces within LangSmith.', 'language': 'en'})],\n",
       " 'answer': 'Sure, here are answers to questions based on the provided context:\\n\\n1. **What is an organization in LangSmith?**\\n   - An organization is a logical grouping of users within LangSmith with its own billing configuration. Typically, it represents one company and can have multiple workspaces.\\n\\n2. **What is the difference between a personal and a shared organization in LangSmith?**\\n   - Personal organizations have a maximum of one workspace and cannot invite users, with the billing restricted to the developer plan. Shared organizations can have multiple workspaces (depending on the plan), allow user invitations, and have access to all other billing plans.\\n\\n3. **How are users managed in LangSmith?**\\n   - Users, who are people with access to LangSmith, can be members of one or more organizations and workspaces. Organization members are managed in organization settings, and workspace members are managed in workspace settings.\\n\\n4. **What billing metrics are mentioned for LangSmith?**\\n   - The billing metrics mentioned include \"LangSmith Traces (Base Charge)\" and \"LangSmith Traces (Extended Data Retention Upgrades)\".\\n\\n5. **What happens when you log in to LangSmith for the first time?**\\n   - When you log in for the first time, a personal organization is automatically created for you.\\n\\nPlease let me know if you have any more questions!'}"
      ]
     },
     "execution_count": 43,
     "metadata": {},
     "output_type": "execute_result"
    }
   ],
   "source": [
    "response"
   ]
  },
  {
   "cell_type": "code",
   "execution_count": 44,
   "id": "92ac5c51",
   "metadata": {},
   "outputs": [
    {
     "data": {
      "text/plain": [
       "[Document(page_content=\"This conceptual guide covers topics related to managing users, organizations, and workspaces within LangSmith.\\nResource Hierarchyâ€‹\\nOrganizationsâ€‹\\nAn organization is a logical grouping of users within LangSmith with its own billing configuration. Typically, there is one organization per company. An organization can have multiple workspaces. For more details, see the setup guide.\\nWhen you log in for the first time, a personal organization will be created for you automatically. If you'd like to collaborate with others, you can create a separate organization and invite your team members to join.\\nThere are a few important differences between your personal organization and shared organizations:\\nFeaturePersonalSharedMaximum workspaces1Variable, depending on plan (see pricing pageCollaborationCannot invite usersCan invite usersBilling: paid plansDeveloper plan onlyAll other plans available\\nWorkspacesâ€‹\", metadata={'source': 'https://docs.smith.langchain.com/administration/concepts', 'title': 'Concepts | ğŸ¦œï¸�ğŸ›\\xa0ï¸� LangSmith', 'description': 'This conceptual guide covers topics related to managing users, organizations, and workspaces within LangSmith.', 'language': 'en'}),\n",
       " Document(page_content='User Management and RBACâ€‹\\nUsersâ€‹\\nA user is a person who has access to LangSmith. Users can be members of one or more organizations and workspaces within those organizations.\\nOrganization members are managed in organization settings:\\n\\nAnd workspace members are managed in workspace settings:', metadata={'source': 'https://docs.smith.langchain.com/administration/concepts', 'title': 'Concepts | ğŸ¦œï¸�ğŸ›\\xa0ï¸� LangSmith', 'description': 'This conceptual guide covers topics related to managing users, organizations, and workspaces within LangSmith.', 'language': 'en'}),\n",
       " Document(page_content='Skip to main contentWe are growing and hiring for multiple roles for LangChain, LangGraph and LangSmith.  Join our team!API ReferenceRESTPythonJS/TSSearchRegionUSEUGo to AppGet StartedObservabilityEvaluationPrompt EngineeringDeployment (LangGraph Platform)AdministrationTutorialsOptimize tracing spend on LangSmithHow-to GuidesSetupConceptual GuideSelf-hostingPricingReferenceCloud architecture and scalabilityAuthz and AuthnAuthentication methodsdata_formatsEvaluationDataset transformationsRegions FAQsdk_referenceChangelogCloud architecture and scalabilityAuthz and AuthnAuthentication methodsdata_formatsEvaluationDataset transformationsRegions FAQsdk_referenceAdministrationConceptual GuideOn this pageConcepts\\nThis conceptual guide covers topics related to managing users, organizations, and workspaces within LangSmith.\\nResource Hierarchyâ€‹\\nOrganizationsâ€‹', metadata={'source': 'https://docs.smith.langchain.com/administration/concepts', 'title': 'Concepts | ğŸ¦œï¸�ğŸ›\\xa0ï¸� LangSmith', 'description': 'This conceptual guide covers topics related to managing users, organizations, and workspaces within LangSmith.', 'language': 'en'}),\n",
       " Document(page_content='Billing modelâ€‹\\nBillable metrics\\nOn your LangSmith invoice, you will see two metrics that we charge for:\\n\\nLangSmith Traces (Base Charge)\\nLangSmith Traces (Extended Data Retention Upgrades).', metadata={'source': 'https://docs.smith.langchain.com/administration/concepts', 'title': 'Concepts | ğŸ¦œï¸�ğŸ›\\xa0ï¸� LangSmith', 'description': 'This conceptual guide covers topics related to managing users, organizations, and workspaces within LangSmith.', 'language': 'en'})]"
      ]
     },
     "execution_count": 44,
     "metadata": {},
     "output_type": "execute_result"
    }
   ],
   "source": [
    "response[\"context\"]"
   ]
  }
 ],
 "metadata": {
  "kernelspec": {
   "display_name": "Python 3",
   "language": "python",
   "name": "python3"
  },
  "language_info": {
   "codemirror_mode": {
    "name": "ipython",
    "version": 3
   },
   "file_extension": ".py",
   "mimetype": "text/x-python",
   "name": "python",
   "nbconvert_exporter": "python",
   "pygments_lexer": "ipython3",
   "version": "3.10.0"
  }
 },
 "nbformat": 4,
 "nbformat_minor": 5
}
