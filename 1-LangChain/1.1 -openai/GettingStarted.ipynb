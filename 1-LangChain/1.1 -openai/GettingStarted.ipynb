{
 "cells": [
  {
   "cell_type": "markdown",
   "id": "fadd3055",
   "metadata": {},
   "source": [
    "# 🚀 Getting Started with LangChain and OpenAI\n",
    "\n",
    "This notebook walks through:\n",
    "\n",
    "1. Installing LangChain, LangSmith, and LangServe\n",
    "2. Using core LangChain components: PromptTemplates, LLMs, Output Parsers\n",
    "3. Building a simple LangChain application\n",
    "4. Tracing with LangSmith\n",
    "5. Serving with LangServe\n",
    "\n"
   ]
  },
  {
   "cell_type": "code",
   "execution_count": 1,
   "id": "629cbf30",
   "metadata": {},
   "outputs": [],
   "source": [
    "from dotenv import load_dotenv\n",
    "import os\n",
    "load_dotenv()\n",
    "\n",
    "os.environ[\"OPENAI_API_KEY\"] = os.getenv(\"OPENAI_API_KEY\")\n",
    "##Langchain Tracking\n",
    "os.environ[\"LANGSMITH_API_KEY\"] = os.getenv(\"LANGSMITH_API_KEY\")\n",
    "os.environ[\"LANGCHAIN_TRACING_V2\"] = \"true\"\n",
    "os.environ[\"LANGCHAIN_PROJECT\"]= os.getenv(\"LANGCHAIN_PROJECT\")"
   ]
  },
  {
   "cell_type": "code",
   "execution_count": 2,
   "id": "d3acdd74",
   "metadata": {},
   "outputs": [
    {
     "name": "stdout",
     "output_type": "stream",
     "text": [
      "client=<openai.resources.chat.completions.completions.Completions object at 0x000002243B45D1E0> async_client=<openai.resources.chat.completions.completions.AsyncCompletions object at 0x000002244C73EB00> model_name='gpt-4o' openai_api_key=SecretStr('**********') openai_proxy=''\n"
     ]
    }
   ],
   "source": [
    "from langchain_openai import ChatOpenAI\n",
    "llm=ChatOpenAI(model=\"gpt-4o\")\n",
    "print(llm)"
   ]
  },
  {
   "cell_type": "code",
   "execution_count": 3,
   "id": "edbd9b62",
   "metadata": {},
   "outputs": [
    {
     "name": "stdout",
     "output_type": "stream",
     "text": [
      "Java is a high-level, object-oriented programming language that is widely used for building applications and software across various platforms. It was originally developed by Sun Microsystems, which was later acquired by Oracle Corporation. Java is designed to have as few implementation dependencies as possible, making it a popular choice for developers due to its portability across platforms—commonly referred to as \"write once, run anywhere\" (WORA).\n",
      "\n",
      "Key features of Java include:\n",
      "\n",
      "1. **Platform Independence**: Java code is compiled into bytecode, which can be run on any device equipped with a Java Virtual Machine (JVM), regardless of the underlying computer architecture.\n",
      "\n",
      "2. **Object-Oriented Programming (OOP)**: Java follows the principles of OOP, which helps in organizing complex programs into manageable, modular components.\n",
      "\n",
      "3. **Automatic Memory Management**: Java includes garbage collection, which automatically manages memory allocation and deallocates objects that are no longer in use, helping to prevent memory leaks.\n",
      "\n",
      "4. **Robustness and Security**: Java provides strong memory management, exception handling, and a range of security features that help protect applications from vulnerabilities.\n",
      "\n",
      "5. **Rich Standard Library**: Java boasts a comprehensive standard library that provides pre-built functions and utilities, facilitating rapid development.\n",
      "\n",
      "6. **Concurrency**: Java has built-in support for multithreading, allowing developers to write programs that can perform multiple tasks simultaneously.\n",
      "\n",
      "7. **Distributed Computing**: Java has capabilities for developing distributed systems, including support for remote method invocation (RMI) and CORBA.\n",
      "\n",
      "Java is used in a wide range of applications, from mobile applications (especially Android apps) to large-scale enterprise systems, web applications, and scientific computing. Its versatility, community support, and ongoing development make it a staple in the programming world.\n"
     ]
    }
   ],
   "source": [
    "## Input and get response from llm\n",
    "response=llm.invoke(\"What is Java?\")\n",
    "print(response.content)"
   ]
  },
  {
   "cell_type": "code",
   "execution_count": 4,
   "id": "3e635f4b",
   "metadata": {},
   "outputs": [
    {
     "name": "stdout",
     "output_type": "stream",
     "text": [
      "LangSmith is a platform developed by LangChain designed to help developers with the building, testing, and evaluation of applications that incorporate language models. It provides tools for debugging, monitoring, and evaluating applications that use natural language processing (NLP) models, making it easier to create reliable and effective language-based applications. LangSmith integrates with LangChain, a popular framework for developing applications with large language models (LLMs), to offer seamless support throughout the development lifecycle.\n"
     ]
    }
   ],
   "source": [
    "## Input and get response from llm\n",
    "response=llm.invoke(\"What is LangSmith\")\n",
    "print(response.content)"
   ]
  },
  {
   "cell_type": "code",
   "execution_count": 5,
   "id": "38d70498",
   "metadata": {},
   "outputs": [
    {
     "data": {
      "text/plain": [
       "ChatPromptTemplate(input_variables=['input'], messages=[SystemMessagePromptTemplate(prompt=PromptTemplate(input_variables=[], template='You are an expert AI enginner.Provide me the answers based on the question')), HumanMessagePromptTemplate(prompt=PromptTemplate(input_variables=['input'], template='{input}'))])"
      ]
     },
     "execution_count": 5,
     "metadata": {},
     "output_type": "execute_result"
    }
   ],
   "source": [
    "### Chatprompt Template\n",
    "from langchain_core.prompts import ChatPromptTemplate\n",
    "prompt = ChatPromptTemplate.from_messages(\n",
    "    [\n",
    "        (\"system\",\"You are an expert AI enginner.Provide me the answers based on the question\"),\n",
    "        (\"user\",\"{input}\")\n",
    "    ]\n",
    ")\n",
    "\n",
    "prompt"
   ]
  },
  {
   "cell_type": "code",
   "execution_count": 6,
   "id": "c37b311f",
   "metadata": {},
   "outputs": [
    {
     "data": {
      "text/plain": [
       "'Agentic AI refers to artificial intelligence systems that are designed to operate with a degree of autonomy, making decisions and taking actions with minimal human intervention. These systems possess \"agency,\" which means they can perceive their environment, reason about potential actions, and execute tasks to achieve specific goals. Agentic AI often incorporates elements of machine learning, natural language processing, and robotics to enhance its decision-making capabilities and adaptability to changing environments.\\n\\nThe concept of Agentic AI is particularly relevant in applications such as autonomous vehicles, personal assistants, and industrial automation, where AI systems need to operate independently and respond dynamically to new situations. However, with this level of autonomy comes the need for robust ethical considerations and safety measures to ensure that these AI systems act in ways that are aligned with human values and safety standards.'"
      ]
     },
     "execution_count": 6,
     "metadata": {},
     "output_type": "execute_result"
    }
   ],
   "source": [
    "#chain \n",
    "chain = prompt | llm\n",
    "response=chain.invoke({\"input\":\"Can you tell me about Agentic AI?\"})\n",
    "response.content"
   ]
  },
  {
   "cell_type": "code",
   "execution_count": 7,
   "id": "87ec678b",
   "metadata": {},
   "outputs": [
    {
     "data": {
      "text/plain": [
       "langchain_core.messages.ai.AIMessage"
      ]
     },
     "execution_count": 7,
     "metadata": {},
     "output_type": "execute_result"
    }
   ],
   "source": [
    "type(response)"
   ]
  },
  {
   "cell_type": "code",
   "execution_count": 8,
   "id": "53ebc121",
   "metadata": {},
   "outputs": [
    {
     "data": {
      "text/plain": [
       "'Meta Platforms, Inc., formerly known as Facebook, Inc., is a multinational technology company based in Menlo Park, California. It was founded by Mark Zuckerberg, along with his college roommates, in 2004. Originally launched as a social networking site, Facebook expanded its services over the years, acquiring various other companies and technologies. \\n\\nIn October 2021, Facebook, Inc. rebranded itself as Meta Platforms, Inc. to reflect its focus on building the \"metaverse,\" a collective virtual shared space that is envisioned as the next evolution of the internet. The metaverse aims to blend virtual and augmented reality experiences with the physical world, enabling more immersive social interactions, work environments, and entertainment.\\n\\nMeta\\'s portfolio includes popular platforms and products like Facebook, Instagram, WhatsApp, and Oculus VR. The company is involved in a wide range of technologies and initiatives, including artificial intelligence, virtual reality, augmented reality, and connectivity projects, among others.\\n\\nAs of my last update in October 2023, Meta continues to invest heavily in developing the metaverse, pushing the boundaries of digital interaction and connectivity. However, it also faces various challenges, including regulatory scrutiny, privacy concerns, and competition in the tech industry.'"
      ]
     },
     "execution_count": 8,
     "metadata": {},
     "output_type": "execute_result"
    }
   ],
   "source": [
    "## strout parser\n",
    "from langchain_core.output_parsers import StrOutputParser\n",
    "output_parser = StrOutputParser()\n",
    "chain = prompt | llm | output_parser\n",
    "response=chain.invoke({\"input\":\"Can you tell me about Meta?\"})\n",
    "response"
   ]
  }
 ],
 "metadata": {
  "kernelspec": {
   "display_name": "Python 3",
   "language": "python",
   "name": "python3"
  },
  "language_info": {
   "codemirror_mode": {
    "name": "ipython",
    "version": 3
   },
   "file_extension": ".py",
   "mimetype": "text/x-python",
   "name": "python",
   "nbconvert_exporter": "python",
   "pygments_lexer": "ipython3",
   "version": "3.10.0"
  }
 },
 "nbformat": 4,
 "nbformat_minor": 5
}
