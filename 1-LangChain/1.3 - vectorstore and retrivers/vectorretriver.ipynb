{
 "cells": [
  {
   "cell_type": "markdown",
   "id": "9d006776",
   "metadata": {},
   "source": [
    "# Vector Stores and Retrievers\n",
    "\n",
    "-- it will explain integration with langchain and vectorestore for data retiveral using reterivers abstraction.It's important when we working in Rag applications and llm data fetching."
   ]
  },
  {
   "cell_type": "markdown",
   "id": "71bc7161",
   "metadata": {},
   "source": [
    "## Document --\n",
    "LangChain implements a Document abstraction to represent text and associated metadata, facilitating document handling within its framework. This abstraction allows for the storage and retrieval of text content alongside contextual information, enabling efficient document-based operations in applications like semantic search and information retrieval. \n",
    "Here's a breakdown of how LangChain implements document abstraction:\n",
    "1. The Document Class:\n",
    "At its core, LangChain uses a Document class to represent a unit of text. \n",
    "This class has three main attributes:\n",
    "pageContent: A string containing the text content of the document. \n",
    "metadata: A dictionary holding arbitrary metadata associated with the document, such as the source, author, or creation date. \n",
    "id: An optional string identifier for the document. \n",
    "This structure allows LangChain to manage both the textual data and its contextual information, which is crucial for many applications"
   ]
  },
  {
   "cell_type": "code",
   "execution_count": 2,
   "id": "ba3fa10d",
   "metadata": {},
   "outputs": [],
   "source": [
    "from langchain_core.documents import Document\n",
    "\n",
    "documents = [\n",
    "    Document(\n",
    "        page_content=\"Dogs are great companions, known for their loyalty and friendliness.\",\n",
    "        metadata={\"source\": \"mammal-pets-doc\"}\n",
    "    ),\n",
    "    Document(\n",
    "        page_content=\"Cats are independent pets that often enjoy their own space.\",\n",
    "        metadata={\"source\": \"mammal-pets-doc\"}\n",
    "    ),\n",
    "    Document(\n",
    "        page_content=\"Parrots are highly intelligent birds that can mimic human speech.\",\n",
    "        metadata={\"source\": \"bird-pets-doc\"}\n",
    "    ),\n",
    "    Document(\n",
    "        page_content=\"Goldfish are low-maintenance aquatic pets ideal for beginners.\",\n",
    "        metadata={\"source\": \"fish-pets-doc\"}\n",
    "    ),\n",
    "    Document(\n",
    "        page_content=\"Hamsters are small rodents that enjoy running on wheels and burrowing.\",\n",
    "        metadata={\"source\": \"rodent-pets-doc\"}\n",
    "    ),\n",
    "    Document(\n",
    "        page_content=\"Rabbits are social animals that can be litter trained and love to hop around.\",\n",
    "        metadata={\"source\": \"mammal-pets-doc\"}\n",
    "    ),\n",
    "    Document(\n",
    "        page_content=\"Turtles have long lifespans and require both water and dry basking areas.\",\n",
    "        metadata={\"source\": \"reptile-pets-doc\"}\n",
    "    ),\n",
    "    Document(\n",
    "        page_content=\"Snakes can be docile pets, but they require a specific habitat and diet.\",\n",
    "        metadata={\"source\": \"reptile-pets-doc\"}\n",
    "    ),\n",
    "    Document(\n",
    "        page_content=\"Guinea pigs are gentle and vocal, making them great for young children.\",\n",
    "        metadata={\"source\": \"rodent-pets-doc\"}\n",
    "    ),\n",
    "    Document(\n",
    "        page_content=\"Ferrets are playful and curious pets that need plenty of exercise.\",\n",
    "        metadata={\"source\": \"mammal-pets-doc\"}\n",
    "    ),\n",
    "]\n"
   ]
  },
  {
   "cell_type": "code",
   "execution_count": 3,
   "id": "f592654b",
   "metadata": {},
   "outputs": [
    {
     "data": {
      "text/plain": [
       "[Document(metadata={'source': 'mammal-pets-doc'}, page_content='Dogs are great companions, known for their loyalty and friendliness.'),\n",
       " Document(metadata={'source': 'mammal-pets-doc'}, page_content='Cats are independent pets that often enjoy their own space.'),\n",
       " Document(metadata={'source': 'bird-pets-doc'}, page_content='Parrots are highly intelligent birds that can mimic human speech.'),\n",
       " Document(metadata={'source': 'fish-pets-doc'}, page_content='Goldfish are low-maintenance aquatic pets ideal for beginners.'),\n",
       " Document(metadata={'source': 'rodent-pets-doc'}, page_content='Hamsters are small rodents that enjoy running on wheels and burrowing.'),\n",
       " Document(metadata={'source': 'mammal-pets-doc'}, page_content='Rabbits are social animals that can be litter trained and love to hop around.'),\n",
       " Document(metadata={'source': 'reptile-pets-doc'}, page_content='Turtles have long lifespans and require both water and dry basking areas.'),\n",
       " Document(metadata={'source': 'reptile-pets-doc'}, page_content='Snakes can be docile pets, but they require a specific habitat and diet.'),\n",
       " Document(metadata={'source': 'rodent-pets-doc'}, page_content='Guinea pigs are gentle and vocal, making them great for young children.'),\n",
       " Document(metadata={'source': 'mammal-pets-doc'}, page_content='Ferrets are playful and curious pets that need plenty of exercise.')]"
      ]
     },
     "execution_count": 3,
     "metadata": {},
     "output_type": "execute_result"
    }
   ],
   "source": [
    "documents"
   ]
  },
  {
   "cell_type": "code",
   "execution_count": 4,
   "id": "4af6eca0",
   "metadata": {},
   "outputs": [
    {
     "data": {
      "text/plain": [
       "ChatGroq(client=<groq.resources.chat.completions.Completions object at 0x00000200CED91DB0>, async_client=<groq.resources.chat.completions.AsyncCompletions object at 0x00000200CEEC99F0>, model_name='Llama3-8b-8192', model_kwargs={}, groq_api_key=SecretStr('**********'))"
      ]
     },
     "execution_count": 4,
     "metadata": {},
     "output_type": "execute_result"
    }
   ],
   "source": [
    "import os\n",
    "from dotenv import load_dotenv\n",
    "from langchain_groq import ChatGroq\n",
    "load_dotenv()\n",
    "groq_api_key = os.getenv(\"GROQ_API_KEY\")\n",
    "os.environ[\"HF_TOKEN\"] = os.getenv(\"HF_TOKEN\")\n",
    "\n",
    "llm = ChatGroq(groq_api_key=groq_api_key,model = \"Llama3-8b-8192\")\n",
    "llm"
   ]
  },
  {
   "cell_type": "code",
   "execution_count": 5,
   "id": "17f7ffbb",
   "metadata": {},
   "outputs": [],
   "source": [
    "from langchain_huggingface import HuggingFaceEmbeddings\n",
    "embeddings = HuggingFaceEmbeddings(model_name = \"all-MiniLM-L6-v2\")"
   ]
  },
  {
   "cell_type": "code",
   "execution_count": 6,
   "id": "6bff80dd",
   "metadata": {},
   "outputs": [
    {
     "data": {
      "text/plain": [
       "<langchain_chroma.vectorstores.Chroma at 0x200cd10eb30>"
      ]
     },
     "execution_count": 6,
     "metadata": {},
     "output_type": "execute_result"
    }
   ],
   "source": [
    "### VectorStore\n",
    "from langchain_chroma import Chroma\n",
    "vectorstore = Chroma.from_documents(documents,embeddings)\n",
    "vectorstore"
   ]
  },
  {
   "cell_type": "code",
   "execution_count": 7,
   "id": "c24f3cdf",
   "metadata": {},
   "outputs": [
    {
     "data": {
      "text/plain": [
       "[Document(id='dc6182e4-b821-4eb5-a6f8-b5f22860a257', metadata={'source': 'mammal-pets-doc'}, page_content='Cats are independent pets that often enjoy their own space.'),\n",
       " Document(id='5deb6a2f-23d9-434f-9c23-48325429efc1', metadata={'source': 'mammal-pets-doc'}, page_content='Ferrets are playful and curious pets that need plenty of exercise.'),\n",
       " Document(id='18f22ecf-617f-4e29-92ad-561058027bc9', metadata={'source': 'mammal-pets-doc'}, page_content='Rabbits are social animals that can be litter trained and love to hop around.'),\n",
       " Document(id='fdeaf258-d43a-4c89-b77d-1572657a33de', metadata={'source': 'rodent-pets-doc'}, page_content='Hamsters are small rodents that enjoy running on wheels and burrowing.')]"
      ]
     },
     "execution_count": 7,
     "metadata": {},
     "output_type": "execute_result"
    }
   ],
   "source": [
    "vectorstore.similarity_search(\"cat\")"
   ]
  },
  {
   "cell_type": "code",
   "execution_count": 8,
   "id": "546ff630",
   "metadata": {},
   "outputs": [
    {
     "data": {
      "text/plain": [
       "[Document(id='dc6182e4-b821-4eb5-a6f8-b5f22860a257', metadata={'source': 'mammal-pets-doc'}, page_content='Cats are independent pets that often enjoy their own space.'),\n",
       " Document(id='5deb6a2f-23d9-434f-9c23-48325429efc1', metadata={'source': 'mammal-pets-doc'}, page_content='Ferrets are playful and curious pets that need plenty of exercise.'),\n",
       " Document(id='18f22ecf-617f-4e29-92ad-561058027bc9', metadata={'source': 'mammal-pets-doc'}, page_content='Rabbits are social animals that can be litter trained and love to hop around.'),\n",
       " Document(id='fdeaf258-d43a-4c89-b77d-1572657a33de', metadata={'source': 'rodent-pets-doc'}, page_content='Hamsters are small rodents that enjoy running on wheels and burrowing.')]"
      ]
     },
     "execution_count": 8,
     "metadata": {},
     "output_type": "execute_result"
    }
   ],
   "source": [
    "###ASYNC query\n",
    "await vectorstore.asimilarity_search(\"cat\")"
   ]
  },
  {
   "cell_type": "code",
   "execution_count": 9,
   "id": "ee0c1b3d",
   "metadata": {},
   "outputs": [
    {
     "data": {
      "text/plain": [
       "[(Document(id='dc6182e4-b821-4eb5-a6f8-b5f22860a257', metadata={'source': 'mammal-pets-doc'}, page_content='Cats are independent pets that often enjoy their own space.'),\n",
       "  0.9351056814193726),\n",
       " (Document(id='5deb6a2f-23d9-434f-9c23-48325429efc1', metadata={'source': 'mammal-pets-doc'}, page_content='Ferrets are playful and curious pets that need plenty of exercise.'),\n",
       "  1.4927723407745361),\n",
       " (Document(id='18f22ecf-617f-4e29-92ad-561058027bc9', metadata={'source': 'mammal-pets-doc'}, page_content='Rabbits are social animals that can be litter trained and love to hop around.'),\n",
       "  1.506852388381958),\n",
       " (Document(id='fdeaf258-d43a-4c89-b77d-1572657a33de', metadata={'source': 'rodent-pets-doc'}, page_content='Hamsters are small rodents that enjoy running on wheels and burrowing.'),\n",
       "  1.5450692176818848)]"
      ]
     },
     "execution_count": 9,
     "metadata": {},
     "output_type": "execute_result"
    }
   ],
   "source": [
    "vectorstore.similarity_search_with_score(\"cat\")"
   ]
  },
  {
   "cell_type": "markdown",
   "id": "1c91d563",
   "metadata": {},
   "source": [
    "### Retrievers\n",
    "VectorStores: These are primarily for storing and querying embeddings (vector representations of data). They implement methods like similarity_search_with_score.\n",
    "Retrievers: These act as interfaces that accept a query and return relevant documents. They are more general than vector stores and can interface with various data sources, not just vector stores. \n",
    "The Key takeaway: While you can get a Retriever from a VectorStore (using a method like .as_retriever()), the VectorStore itself is not a Runnable. The Retriever, which can be constructed from a VectorStore, is a Runnable and therefore has methods like invoke. Retrievers implement the standard Runnable interface, allowing for synchronous and asynchronous operations, batching, and integration into LangChain Expression Language (LCEL) chains."
   ]
  },
  {
   "cell_type": "code",
   "execution_count": 10,
   "id": "279f9532",
   "metadata": {},
   "outputs": [
    {
     "data": {
      "text/plain": [
       "[[Document(id='dc6182e4-b821-4eb5-a6f8-b5f22860a257', metadata={'source': 'mammal-pets-doc'}, page_content='Cats are independent pets that often enjoy their own space.')],\n",
       " [Document(id='02e85714-dcec-4589-b23e-6cfc73a01ad0', metadata={'source': 'mammal-pets-doc'}, page_content='Dogs are great companions, known for their loyalty and friendliness.')]]"
      ]
     },
     "execution_count": 10,
     "metadata": {},
     "output_type": "execute_result"
    }
   ],
   "source": [
    "retriver =vectorstore.as_retriever(\n",
    "    search_type = \"similarity\",\n",
    "    search_kwargs={\"k\":1}\n",
    "\n",
    ")\n",
    "retriver.batch([\"cat\",\"dog\"])"
   ]
  },
  {
   "cell_type": "code",
   "execution_count": 14,
   "id": "003d6d13",
   "metadata": {},
   "outputs": [
    {
     "data": {
      "text/plain": [
       "'According to the provided context, dogs are great companions, known for their loyalty and friendliness.'"
      ]
     },
     "execution_count": 14,
     "metadata": {},
     "output_type": "execute_result"
    }
   ],
   "source": [
    "from langchain_core.prompts import ChatPromptTemplate\n",
    "from langchain_core.runnables import RunnablePassthrough\n",
    "\n",
    "message = \"\"\"\n",
    "          Answer this question using the provided context only.\n",
    "          {question}\n",
    "\n",
    "          Context:\n",
    "          {context}\n",
    "         \"\"\"\n",
    "prompt = ChatPromptTemplate.from_messages(\n",
    "    [\n",
    "        (\"human\",message)\n",
    "    ]\n",
    ")\n",
    "rag_chain ={\n",
    "    \"context\":retriver,\n",
    "    \"question\":RunnablePassthrough()\n",
    "} | prompt | llm\n",
    "\n",
    "response = rag_chain.invoke(\"tell me about dogs?\")\n",
    "response.content"
   ]
  },
  {
   "cell_type": "code",
   "execution_count": null,
   "id": "ad209e63",
   "metadata": {},
   "outputs": [],
   "source": []
  }
 ],
 "metadata": {
  "kernelspec": {
   "display_name": "Python 3",
   "language": "python",
   "name": "python3"
  },
  "language_info": {
   "codemirror_mode": {
    "name": "ipython",
    "version": 3
   },
   "file_extension": ".py",
   "mimetype": "text/x-python",
   "name": "python",
   "nbconvert_exporter": "python",
   "pygments_lexer": "ipython3",
   "version": "3.10.0"
  }
 },
 "nbformat": 4,
 "nbformat_minor": 5
}
